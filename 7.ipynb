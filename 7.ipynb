{
 "cells": [
  {
   "cell_type": "code",
   "execution_count": null,
   "metadata": {},
   "outputs": [],
   "source": [
    "import genome\n",
    "from genome import Genom, Node, crossover, distance\n",
    "import numpy as np\n",
    "import operator\n",
    "import copy\n",
    "from time import sleep\n",
    "import gymnasium as gym\n",
    "import torch\n",
    "from operator import itemgetter\n",
    "import random"
   ]
  },
  {
   "cell_type": "code",
   "execution_count": null,
   "metadata": {},
   "outputs": [],
   "source": [
    "env = gym.make(\"CartPole-v1\")"
   ]
  },
  {
   "cell_type": "markdown",
   "metadata": {},
   "source": [
    "## Erstellung eines Genoms mit einem Input- und zwei Output-Knoten"
   ]
  },
  {
   "cell_type": "code",
   "execution_count": null,
   "metadata": {},
   "outputs": [],
   "source": [
    "genom = Genom(2,1)"
   ]
  },
  {
   "cell_type": "markdown",
   "metadata": {},
   "source": [
    "## Ausgabe der Knoten und Verbindungen"
   ]
  },
  {
   "cell_type": "code",
   "execution_count": null,
   "metadata": {},
   "outputs": [],
   "source": [
    "genom.p_nodes()\n",
    "genom.p_connections()"
   ]
  },
  {
   "cell_type": "markdown",
   "metadata": {},
   "source": [
    "## Visualisierung"
   ]
  },
  {
   "cell_type": "code",
   "execution_count": null,
   "metadata": {},
   "outputs": [],
   "source": [
    "genom.visualize(color=\"green\")"
   ]
  },
  {
   "cell_type": "markdown",
   "metadata": {},
   "source": [
    "## Forward Pass"
   ]
  },
  {
   "cell_type": "code",
   "execution_count": null,
   "metadata": {},
   "outputs": [],
   "source": [
    "genom.forward([1,1])"
   ]
  },
  {
   "cell_type": "markdown",
   "metadata": {},
   "source": [
    "## Mutation"
   ]
  },
  {
   "cell_type": "code",
   "execution_count": null,
   "metadata": {},
   "outputs": [],
   "source": [
    "for _ in range(10):\n",
    "    genom.mutate()\n",
    "genom.visualize(labels=True, color=\"green\")"
   ]
  },
  {
   "cell_type": "code",
   "execution_count": null,
   "metadata": {},
   "outputs": [],
   "source": [
    "genom.p_nodes()\n",
    "genom.p_connections()"
   ]
  },
  {
   "cell_type": "code",
   "execution_count": null,
   "metadata": {},
   "outputs": [],
   "source": [
    "genom.forward([1,1])"
   ]
  },
  {
   "cell_type": "markdown",
   "metadata": {},
   "source": [
    "## Erstellung von zwei neuen Genomen"
   ]
  },
  {
   "cell_type": "code",
   "execution_count": null,
   "metadata": {},
   "outputs": [],
   "source": [
    "genom1 = Genom(2,1)\n",
    "genom2 = Genom(2,1)"
   ]
  },
  {
   "cell_type": "code",
   "execution_count": null,
   "metadata": {},
   "outputs": [],
   "source": [
    "genom1.visualize(color=\"red\")\n",
    "genom2.visualize(color=\"green\")"
   ]
  },
  {
   "cell_type": "markdown",
   "metadata": {},
   "source": [
    "## Crossover"
   ]
  },
  {
   "cell_type": "code",
   "execution_count": null,
   "metadata": {},
   "outputs": [],
   "source": [
    "cros_genom = crossover(genom1,genom2)\n",
    "cros_genom.visualize(color=\"yellow\")"
   ]
  },
  {
   "cell_type": "code",
   "execution_count": null,
   "metadata": {},
   "outputs": [],
   "source": [
    "for _ in range(5):\n",
    "    genom2.mutate()\n",
    "\n",
    "genom2.visualize(color=\"green\")"
   ]
  },
  {
   "cell_type": "code",
   "execution_count": null,
   "metadata": {},
   "outputs": [],
   "source": [
    "cros_genom = crossover(genom1,genom2)\n",
    "cros_genom.visualize(color=\"yellow\")"
   ]
  },
  {
   "cell_type": "code",
   "execution_count": null,
   "metadata": {},
   "outputs": [],
   "source": [
    "cros_genom.p_nodes()\n",
    "cros_genom.p_connections()"
   ]
  },
  {
   "cell_type": "code",
   "execution_count": null,
   "metadata": {},
   "outputs": [],
   "source": [
    "cros_genom.forward([1,1])"
   ]
  },
  {
   "cell_type": "markdown",
   "metadata": {},
   "source": [
    "## Distanz"
   ]
  },
  {
   "cell_type": "code",
   "execution_count": null,
   "metadata": {},
   "outputs": [],
   "source": [
    "distance(genom1,genom2)"
   ]
  },
  {
   "cell_type": "code",
   "execution_count": null,
   "metadata": {},
   "outputs": [],
   "source": [
    "class Agent():\n",
    "    \n",
    "    def __init__(self, obs_dim = env.observation_space.shape, n_actions = env.action_space.n, \n",
    "                 eps = 0.05, eps_dec = 1e-5, eps_min = 0.05, popSize=20):\n",
    "        \n",
    "        self.obs_dim = obs_dim\n",
    "        self.n_actions = n_actions\n",
    "        self.action_space = [i for i in range(n_actions)]\n",
    "        self.eps = eps\n",
    "        self.eps_dec = eps_dec\n",
    "        self.eps_min = eps_min\n",
    "        self.popSize = popSize\n",
    "        self.population = [(Genom(4,2),0) for _ in range(self.popSize)]\n",
    "\n",
    "\n",
    "    #Choose the next action, based on the current state\n",
    "    def pick_action(self, state, nn):\n",
    "        if np.random.random() > self.eps:\n",
    "            actions = [nn.forward(state)]\n",
    "            action = max(actions, key=itemgetter(1))[0][0]\n",
    "        else:\n",
    "            action = np.random.choice(self.action_space)\n",
    "        self.eps -= self.eps_dec if self.eps > self.eps_min else 0\n",
    "        return action\n",
    "    \n",
    "    def train(self, epochs = 100):\n",
    "        self.population = self.fitness(3, self.population)\n",
    "        for i in range(epochs):\n",
    "            \n",
    "            #print frequenz\n",
    "            if i % 25 == 0:\n",
    "                print(\"Epoch: \" + str(i), end=\" \")\n",
    "                print(\"Score: \" +str(self.population[0][1]))\n",
    "\n",
    "            #early break up\n",
    "            if(self.population[0][1] >= 450):\n",
    "               return self.population[0][0]\n",
    "            \n",
    "            #crossover\n",
    "            random.shuffle(self.population)\n",
    "            child_pop = []\n",
    "            for i in range(0, len(self.population), 2):\n",
    "                child_pop.append((crossover(self.population[i][0], self.population[i+1][0],\n",
    "                                           self.population[i][1], self.population[i+1][1]), 0))\n",
    "                \n",
    "            #mutation\n",
    "            self.mutation(child_pop)\n",
    "\n",
    "            #calc fitness\n",
    "            self.population += self.fitness(3, child_pop)\n",
    "\n",
    "            #selection\n",
    "            self.selection()\n",
    "\n",
    "        return self.population[0][0]\n",
    "            \n",
    "\n",
    "    #Calculates the fitness of a population. The fitness is the average score after \"reps\" games \n",
    "    def fitness(self, reps, pop):\n",
    "        new_pop = []\n",
    "        for p in pop:\n",
    "            sum = 0\n",
    "            for _ in range(reps):\n",
    "                sum += self.play(p[0])\n",
    "            new_pop.append((p[0],sum/reps))\n",
    "        return new_pop\n",
    "    \n",
    "\n",
    "    def selection(self):\n",
    "        \"\"\"Elitist Selection\"\"\"\n",
    "        sortedPop = sorted(self.population, key=operator.itemgetter(1), reverse=True)\n",
    "        self.population = sortedPop[:self.popSize]\n",
    "            \n",
    "    #mutates the childrens\n",
    "    def mutation(self, children):\n",
    "        for c in children:\n",
    "            c[0].mutate()\n",
    "\n",
    "    #play the game once and return the score\n",
    "    def play(self, nn: Genom):\n",
    "        obs, _ = env.reset()\n",
    "        obs = torch.tensor(obs, dtype=torch.float)\n",
    "        score = 0\n",
    "        terminated = False\n",
    "        truncated = False\n",
    "        while not terminated and not truncated:\n",
    "            action = self.pick_action(obs, nn)\n",
    "            obs_, reward, terminated, truncated, _ = env.step(action)\n",
    "            obs = torch.tensor(obs_, dtype=torch.float)\n",
    "            score += 1\n",
    "        return score\n",
    "            "
   ]
  },
  {
   "cell_type": "code",
   "execution_count": null,
   "metadata": {},
   "outputs": [],
   "source": [
    "agent = Agent(popSize=20, eps=0.6)"
   ]
  },
  {
   "cell_type": "code",
   "execution_count": null,
   "metadata": {},
   "outputs": [],
   "source": [
    "best = agent.train(epochs=300)\n",
    "best.p_connections()\n",
    "best.p_nodes()\n",
    "best.visualize()"
   ]
  },
  {
   "cell_type": "code",
   "execution_count": null,
   "metadata": {},
   "outputs": [],
   "source": [
    "class NN():\n",
    "\n",
    "    def __init__(self, popSize = 2, n_In = 2, n_Out = 1) -> None:\n",
    "        self.population = [(Genom(n_In,n_Out),0) for _ in range(popSize)] \n",
    "        self.popSize = popSize\n",
    "\n",
    "    def forwardpass(self, index,x):\n",
    "        return self.population[index][0].forward(x)\n",
    "\n",
    "    def mutate(self,pop):\n",
    "        for p in pop:\n",
    "            p[0].mutate()\n",
    "\n",
    "     #Calculates the fitness of a population. The fitness is the average score after \"reps\" games \n",
    "    def fitness(self, reps, pop):\n",
    "        new_pop = []\n",
    "        for p in pop:\n",
    "            sum = 0\n",
    "            for _ in range(reps):\n",
    "                sum += self.play(p[0])\n",
    "            new_pop.append((p[0],sum/reps))\n",
    "        return new_pop\n",
    "    \n",
    "\n",
    "    def selection(self):\n",
    "        \"\"\"Elitist Selection\"\"\"\n",
    "        sortedPop = sorted(self.population, key=operator.itemgetter(1), reverse=True)\n",
    "        self.population = sortedPop[:self.popSize]\n",
    "\n",
    "    def fitness(sel, pop):\n",
    "        new_pop = []\n",
    "        for p in pop:\n",
    "            tmp = 0\n",
    "\n",
    "            if np.round(p[0].forward([0,0])[0][1]) == 0:\n",
    "                tmp += 0.25\n",
    "            if np.round(p[0].forward([0,1])[0][1]) == 1:\n",
    "                tmp += 0.25\n",
    "            if np.round(p[0].forward([1,0])[0][1]) == 1:\n",
    "                tmp += 0.25\n",
    "            if np.round(p[0].forward([1,1])[0][1]) == 0:\n",
    "                tmp += 0.25\n",
    "            #print(genom.forward([0,0]))\n",
    "\n",
    "            new_pop.append((p[0],tmp))\n",
    "\n",
    "        return new_pop\n",
    "\n",
    "            \n",
    "    \n",
    "    def train(self, epochs = 100):\n",
    "        for i in range(epochs):\n",
    "            \n",
    "            print(\"Epoch: \" + str(i), end=\" \")\n",
    "            print(\"Acc: \" +str(self.population[0][1]))\n",
    "\n",
    "            if(self.population[0][1] == 1):\n",
    "               return self.population[0][0]\n",
    "            '''for p in self.population:\n",
    "                p[0].p_nodes()\n",
    "                p[0].p_connections()'''\n",
    "\n",
    "            #crossover\n",
    "            random.shuffle(self.population)\n",
    "            child_pop = []\n",
    "            for i in range(0, len(self.population), 2):\n",
    "                child_pop.append((crossover(self.population[i][0], self.population[i+1][0],\n",
    "                                           self.population[i][1], self.population[i+1][1]), 0))\n",
    "                \n",
    "            self.mutate(child_pop)\n",
    "            \n",
    "            self.population += self.fitness(child_pop)\n",
    "\n",
    "            self.selection()\n",
    "\n",
    "        return self.population[0][0]\n",
    "            \n",
    "            "
   ]
  },
  {
   "cell_type": "code",
   "execution_count": null,
   "metadata": {},
   "outputs": [],
   "source": [
    "nn = NN(popSize=100)\n",
    "best = nn.train()\n",
    "best.visualize()\n"
   ]
  }
 ],
 "metadata": {
  "kernelspec": {
   "display_name": "Python 3",
   "language": "python",
   "name": "python3"
  },
  "language_info": {
   "codemirror_mode": {
    "name": "ipython",
    "version": 3
   },
   "file_extension": ".py",
   "mimetype": "text/x-python",
   "name": "python",
   "nbconvert_exporter": "python",
   "pygments_lexer": "ipython3",
   "version": "3.10.4"
  },
  "orig_nbformat": 4
 },
 "nbformat": 4,
 "nbformat_minor": 2
}
