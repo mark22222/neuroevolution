{
 "cells": [
  {
   "cell_type": "code",
   "execution_count": 40,
   "metadata": {},
   "outputs": [],
   "source": [
    "import genome\n",
    "from genome import Genom"
   ]
  },
  {
   "cell_type": "code",
   "execution_count": 44,
   "metadata": {},
   "outputs": [
    {
     "ename": "AttributeError",
     "evalue": "'Genom' object has no attribute 'p_connections'",
     "output_type": "error",
     "traceback": [
      "\u001b[1;31m---------------------------------------------------------------------------\u001b[0m",
      "\u001b[1;31mAttributeError\u001b[0m                            Traceback (most recent call last)",
      "Cell \u001b[1;32mIn[44], line 3\u001b[0m\n\u001b[0;32m      1\u001b[0m genom \u001b[39m=\u001b[39m Genom(\u001b[39m2\u001b[39m,\u001b[39m1\u001b[39m)\n\u001b[0;32m      2\u001b[0m \u001b[39m#genom.p_connections()\u001b[39;00m\n\u001b[1;32m----> 3\u001b[0m genom\u001b[39m.\u001b[39;49mp_connections()\n",
      "\u001b[1;31mAttributeError\u001b[0m: 'Genom' object has no attribute 'p_connections'"
     ]
    }
   ],
   "source": [
    "genom = Genom(2,1)\n",
    "genom.p_connections()"
   ]
  }
 ],
 "metadata": {
  "kernelspec": {
   "display_name": "Python 3",
   "language": "python",
   "name": "python3"
  },
  "language_info": {
   "codemirror_mode": {
    "name": "ipython",
    "version": 3
   },
   "file_extension": ".py",
   "mimetype": "text/x-python",
   "name": "python",
   "nbconvert_exporter": "python",
   "pygments_lexer": "ipython3",
   "version": "3.11.4"
  },
  "orig_nbformat": 4
 },
 "nbformat": 4,
 "nbformat_minor": 2
}
