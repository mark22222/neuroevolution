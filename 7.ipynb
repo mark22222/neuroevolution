{
 "cells": [
  {
   "cell_type": "code",
   "execution_count": 41,
   "metadata": {},
   "outputs": [],
   "source": [
    "import genome\n",
    "from genome import Genom, Node, crossover\n",
    "import numpy as np\n",
    "import operator\n",
    "import copy\n",
    "from time import sleep\n",
    "import gymnasium as gym\n",
    "import torch\n",
    "from operator import itemgetter\n",
    "import random"
   ]
  },
  {
   "cell_type": "code",
   "execution_count": 42,
   "metadata": {},
   "outputs": [],
   "source": [
    "env = gym.make(\"CartPole-v1\")"
   ]
  },
  {
   "cell_type": "code",
   "execution_count": 43,
   "metadata": {},
   "outputs": [],
   "source": [
    "genom = Genom(2,1)"
   ]
  },
  {
   "cell_type": "code",
   "execution_count": 44,
   "metadata": {},
   "outputs": [
    {
     "name": "stdout",
     "output_type": "stream",
     "text": [
      "===== Input Nodes =====\n",
      "Key: -2 Type: input Bias: 0.37773149176688603\n",
      "Key: -1 Type: input Bias: -0.6176802472612708\n",
      "===== Hidden Nodes =====\n",
      "===== Output Nodes =====\n",
      "Key: 0 Type: out Bias: -0.17960965266590964\n",
      "\n",
      "===== Connections =====\n",
      "-2 --> 0 Weight: 0.1481579288661978 is active : True\n",
      "-1 --> 0 Weight: -0.09316383636033716 is active : True\n",
      "\n"
     ]
    }
   ],
   "source": [
    "genom.p_nodes()\n",
    "genom.p_connections()"
   ]
  },
  {
   "cell_type": "code",
   "execution_count": 45,
   "metadata": {},
   "outputs": [
    {
     "data": {
      "image/png": "[encoded data removed]",
      "text/plain": [
       "<Figure size 432x288 with 1 Axes>"
      ]
     },
     "metadata": {},
     "output_type": "display_data"
    }
   ],
   "source": [
    "genom.visualize()"
   ]
  },
  {
   "cell_type": "code",
   "execution_count": 46,
   "metadata": {},
   "outputs": [
    {
     "data": {
      "text/plain": [
       "[(0, -0.19071583585937593)]"
      ]
     },
     "execution_count": 46,
     "metadata": {},
     "output_type": "execute_result"
    }
   ],
   "source": [
    "genom.forward([1,1])"
   ]
  },
  {
   "cell_type": "code",
   "execution_count": 47,
   "metadata": {},
   "outputs": [
    {
     "data": {
      "image/png": "[encoded data removed]",
      "text/plain": [
       "<Figure size 432x288 with 1 Axes>"
      ]
     },
     "metadata": {},
     "output_type": "display_data"
    }
   ],
   "source": [
    "for _ in range(10):\n",
    "    genom.mutate()\n",
    "genom.visualize(labels=False, color=\"yellow\")"
   ]
  },
  {
   "cell_type": "code",
   "execution_count": 48,
   "metadata": {},
   "outputs": [
    {
     "name": "stdout",
     "output_type": "stream",
     "text": [
      "===== Input Nodes =====\n",
      "Key: -2 Type: input Bias: 0.2390278523282632\n",
      "Key: -1 Type: input Bias: -0.7988858266217511\n",
      "===== Hidden Nodes =====\n",
      "===== Output Nodes =====\n",
      "Key: 0 Type: out Bias: -0.6249565694881435\n",
      "\n",
      "===== Connections =====\n",
      "-2 --> 0 Weight: -0.09962103756406333 is active : True\n",
      "-1 --> 0 Weight: 0.14849985403554516 is active : True\n",
      "\n"
     ]
    }
   ],
   "source": [
    "genom.p_nodes()\n",
    "genom.p_connections()"
   ]
  },
  {
   "cell_type": "code",
   "execution_count": 49,
   "metadata": {},
   "outputs": [
    {
     "data": {
      "text/plain": [
       "[(0, -1.3434809538048522)]"
      ]
     },
     "execution_count": 49,
     "metadata": {},
     "output_type": "execute_result"
    }
   ],
   "source": [
    "genom.forward([1,1])"
   ]
  },
  {
   "cell_type": "code",
   "execution_count": 50,
   "metadata": {},
   "outputs": [],
   "source": [
    "# def same_connection(con1,con2):\n",
    "#         return con1.in_Node.key == con2.in_Node.key and con1.out_Node.key == con2.out_Node.key\n",
    "\n",
    "# def contains_connection(con,l_cons):\n",
    "#     for c in l_cons:\n",
    "#         if same_connection(c,con):\n",
    "#             return True\n",
    "        \n",
    "#     return False"
   ]
  },
  {
   "cell_type": "code",
   "execution_count": 51,
   "metadata": {},
   "outputs": [],
   "source": [
    "# def crossover(genom1,genom2):\n",
    "\n",
    "#         con1 = genom1.connections\n",
    "#         con2 = genom2.connections\n",
    "\n",
    "#         fit1 = np.random.rand(1)\n",
    "#         fit2 = np.random.rand(1)\n",
    "\n",
    "\n",
    "#         new_con = []\n",
    "#         for c1 in con1:\n",
    "#             for c2 in con2:\n",
    "#                 if same_connection(c1,c2):\n",
    "#                     if c1.is_active == c2.is_active:\n",
    "#                         if np.random.rand(1) < 0.5:\n",
    "#                             new_con.append(c1)\n",
    "#                         else:\n",
    "#                             new_con.append(c2)\n",
    "#                         break\n",
    "#                     elif fit1 >= fit2:\n",
    "#                         new_con.append(c1)\n",
    "#                     else:\n",
    "#                         new_con.append(c2)\n",
    "\n",
    "#         if fit1 >= fit2:\n",
    "#             for c1 in con1:\n",
    "#                 if not contains_connection(c1, new_con):\n",
    "#                     new_con.append(c1)\n",
    "#         else:\n",
    "#             for c2 in con2:\n",
    "#                 if not contains_connection(c2, new_con):\n",
    "#                     new_con.append(c2)\n",
    "\n",
    "#         g = Genom(2,1)\n",
    "#         g.in_Nodes = genom1.in_Nodes\n",
    "#         g.out_Nodes = genom1.out_Nodes\n",
    "#         g.hidden_Nodes = genom1.hidden_Nodes if fit1 > fit2 else genom2.hidden_Nodes\n",
    "#         g.connections = new_con\n",
    "#         g.visualize()\n",
    "\n",
    "#         return g"
   ]
  },
  {
   "cell_type": "code",
   "execution_count": 52,
   "metadata": {},
   "outputs": [],
   "source": [
    "genom1 = Genom(2,1)\n",
    "genom2 = Genom(2,1)"
   ]
  },
  {
   "cell_type": "code",
   "execution_count": 53,
   "metadata": {},
   "outputs": [
    {
     "data": {
      "image/png": "[encoded data removed]",
      "text/plain": [
       "<Figure size 432x288 with 1 Axes>"
      ]
     },
     "metadata": {},
     "output_type": "display_data"
    }
   ],
   "source": [
    "genom1.visualize(color=\"red\")\n",
    "genom2.visualize(color=\"green\")"
   ]
  },
  {
   "cell_type": "code",
   "execution_count": 54,
   "metadata": {},
   "outputs": [
    {
     "data": {
      "text/plain": [
       "<genome.Genom at 0x1d0ba2b3250>"
      ]
     },
     "execution_count": 54,
     "metadata": {},
     "output_type": "execute_result"
    }
   ],
   "source": [
    "crossover(genom1,genom2)"
   ]
  },
  {
   "cell_type": "code",
   "execution_count": 55,
   "metadata": {},
   "outputs": [
    {
     "data": {
      "image/png": "[encoded data removed]",
      "text/plain": [
       "<Figure size 432x288 with 1 Axes>"
      ]
     },
     "metadata": {},
     "output_type": "display_data"
    }
   ],
   "source": [
    "for _ in range(5):\n",
    "    genom2.mutate()\n",
    "\n",
    "genom2.visualize()"
   ]
  },
  {
   "cell_type": "code",
   "execution_count": 56,
   "metadata": {},
   "outputs": [],
   "source": [
    "g = crossover(genom1,genom2)"
   ]
  },
  {
   "cell_type": "code",
   "execution_count": 57,
   "metadata": {},
   "outputs": [
    {
     "name": "stdout",
     "output_type": "stream",
     "text": [
      "[(0, 2.8494314632345104)]\n",
      "===== Connections =====\n",
      "-2 --> 0 Weight: -0.049655704933951265 is active : True\n",
      "-1 --> 0 Weight: -0.5069432018014081 is active : True\n",
      "-1 --> 1 Weight: 1.164885475714505 is active : False\n",
      "1 --> 0 Weight: 0.36449397058755745 is active : True\n",
      "-1 --> 2 Weight: 1.0753990425479982 is active : True\n",
      "2 --> 1 Weight: 1.1473239659271703 is active : True\n",
      "-2 --> 3 Weight: 1 is active : True\n",
      "3 --> 0 Weight: 1.733352061296966 is active : True\n",
      "\n"
     ]
    }
   ],
   "source": [
    "print(g.forward([0,1]))\n",
    "g.p_connections()"
   ]
  },
  {
   "cell_type": "code",
   "execution_count": 58,
   "metadata": {},
   "outputs": [],
   "source": [
    "class Agent():\n",
    "    \n",
    "    def __init__(self, obs_dim = env.observation_space.shape, n_actions = env.action_space.n, \n",
    "                 eps = 0.05, eps_dec = 1e-5, eps_min = 0.05, popSize=20):\n",
    "        \n",
    "        self.obs_dim = obs_dim\n",
    "        self.n_actions = n_actions\n",
    "        self.action_space = [i for i in range(n_actions)]\n",
    "        self.eps = eps\n",
    "        self.eps_dec = eps_dec\n",
    "        self.eps_min = eps_min\n",
    "        self.popSize = popSize\n",
    "        self.population = [(Genom(4,2),0) for _ in range(self.popSize)]\n",
    "\n",
    "\n",
    "    #Choose the next action, based on the current state\n",
    "    def pick_action(self, state, nn):\n",
    "        if np.random.random() > self.eps:\n",
    "            actions = [nn.forward(state)]\n",
    "            action = max(actions, key=itemgetter(1))[0][0]\n",
    "        else:\n",
    "            action = np.random.choice(self.action_space)\n",
    "        self.eps -= self.eps_dec if self.eps > self.eps_min else 0\n",
    "        return action\n",
    "    \n",
    "    def train(self, epochs = 100):\n",
    "        self.population = self.fitness(3, self.population)\n",
    "        for i in range(epochs):\n",
    "            \n",
    "            if i % 25 == 0:\n",
    "                print(\"Epoch: \" + str(i), end=\" \")\n",
    "                print(\"Score: \" +str(self.population[0][1]))\n",
    "\n",
    "            if(self.population[0][1] == 1):\n",
    "               return self.population[0][0]\n",
    "            random.shuffle(self.population)\n",
    "            child_pop = []\n",
    "            for i in range(0, len(self.population), 2):\n",
    "                child_pop.append((crossover(self.population[i][0], self.population[i+1][0],\n",
    "                                           self.population[i][1], self.population[i+1][1]), 0))\n",
    "            self.mutation(child_pop)\n",
    "            self.population += self.fitness(3, child_pop)\n",
    "\n",
    "            self.selection()\n",
    "\n",
    "        return self.population[0][0]\n",
    "            \n",
    "\n",
    "    #Calculates the fitness of a population. The fitness is the average score after \"reps\" games \n",
    "    def fitness(self, reps, pop):\n",
    "        new_pop = []\n",
    "        for p in pop:\n",
    "            sum = 0\n",
    "            for _ in range(reps):\n",
    "                sum += self.play(p[0])\n",
    "            new_pop.append((p[0],sum/reps))\n",
    "        return new_pop\n",
    "    \n",
    "\n",
    "    def selection(self):\n",
    "        \"\"\"Elitist Selection\"\"\"\n",
    "        sortedPop = sorted(self.population, key=operator.itemgetter(1), reverse=True)\n",
    "        self.population = sortedPop[:self.popSize]\n",
    "            \n",
    "    #mutates the childrens\n",
    "    def mutation(self, children, mutate_bias = False):\n",
    "        for c in children:\n",
    "            c[0].mutate(prob=0.001)\n",
    "\n",
    "    #play the game once and return the score\n",
    "    def play(self, nn: Genom):\n",
    "        obs, _ = env.reset()\n",
    "        obs = torch.tensor(obs, dtype=torch.float)\n",
    "        score = 0\n",
    "        terminated = False\n",
    "        truncated = False\n",
    "        while not terminated and not truncated:\n",
    "            action = self.pick_action(obs, nn)\n",
    "            obs_, reward, terminated, truncated, _ = env.step(action)\n",
    "            obs = torch.tensor(obs_, dtype=torch.float)\n",
    "            score += 1\n",
    "        return score\n",
    "            "
   ]
  },
  {
   "cell_type": "code",
   "execution_count": 59,
   "metadata": {},
   "outputs": [],
   "source": [
    "agent = Agent(popSize=20, eps=0.6)"
   ]
  },
  {
   "cell_type": "code",
   "execution_count": 60,
   "metadata": {},
   "outputs": [
    {
     "name": "stdout",
     "output_type": "stream",
     "text": [
      "Epoch: 0 Score: 11.333333333333334\n",
      "Epoch: 25 Score: 33.0\n",
      "Epoch: 50 Score: 33.0\n",
      "Epoch: 75 Score: 33.0\n",
      "Epoch: 100 Score: 33.0\n",
      "Epoch: 125 Score: 33.0\n",
      "Epoch: 150 Score: 33.0\n",
      "Epoch: 175 Score: 33.0\n",
      "Epoch: 200 Score: 33.0\n",
      "Epoch: 225 Score: 33.0\n",
      "Epoch: 250 Score: 33.0\n",
      "Epoch: 275 Score: 33.0\n",
      "===== Connections =====\n",
      "-4 --> 0 Weight: -0.115206975171424 is active : False\n",
      "-4 --> 1 Weight: 1.251567003577212 is active : False\n",
      "-3 --> 0 Weight: 0.9658877725520946 is active : False\n",
      "-3 --> 1 Weight: -1.032005219651323 is active : False\n",
      "-2 --> 0 Weight: -0.07862400036818804 is active : False\n",
      "-2 --> 1 Weight: 1.8448222830101775 is active : False\n",
      "-1 --> 0 Weight: -0.4068534642796935 is active : False\n",
      "-1 --> 1 Weight: -2.762625941373212 is active : False\n",
      "\n",
      "===== Input Nodes =====\n",
      "Key: -4 Type: input Bias: -2.846405452922954\n",
      "Key: -3 Type: input Bias: -0.011886810360479054\n",
      "Key: -2 Type: input Bias: -4.333143494384514\n",
      "Key: -1 Type: input Bias: -3.001626460296771\n",
      "===== Hidden Nodes =====\n",
      "===== Output Nodes =====\n",
      "Key: 0 Type: out Bias: -4.6712803251155375\n",
      "Key: 1 Type: out Bias: 0.8344378198584291\n",
      "\n"
     ]
    },
    {
     "data": {
      "image/png": "[encoded data removed]",
      "text/plain": [
       "<Figure size 432x288 with 1 Axes>"
      ]
     },
     "metadata": {},
     "output_type": "display_data"
    }
   ],
   "source": [
    "best = agent.train(epochs=300)\n",
    "best.p_connections()\n",
    "best.p_nodes()\n",
    "best.visualize()"
   ]
  },
  {
   "cell_type": "code",
   "execution_count": null,
   "metadata": {},
   "outputs": [],
   "source": [
    "class NN():\n",
    "\n",
    "    def __init__(self, popSize = 2, n_In = 2, n_Out = 1) -> None:\n",
    "        self.population = [(Genom(n_In,n_Out),0) for _ in range(popSize)] \n",
    "        self.popSize = popSize\n",
    "\n",
    "    def forwardpass(self, index,x):\n",
    "        return self.population[index][0].forward(x)\n",
    "\n",
    "    def mutate(self,pop):\n",
    "        for p in pop:\n",
    "            p[0].mutate()\n",
    "\n",
    "    def same_connection(self,con1,con2):\n",
    "        return con1.in_Node.key == con2.in_Node.key and con1.out_Node.key == con2.out_Node.key\n",
    "\n",
    "    def contains_connection(self,con,l_cons):\n",
    "        for c in l_cons:\n",
    "            if self.same_connection(c,con):\n",
    "                return True\n",
    "            \n",
    "        return False\n",
    "    \n",
    "    def cross(self, genom1, genom2, fit1, fit2):\n",
    "\n",
    "        con1 = genom1.connections\n",
    "        con2 = genom2.connections\n",
    "\n",
    "\n",
    "        new_con = []\n",
    "        for c1 in con1:\n",
    "            for c2 in con2:\n",
    "                if self.same_connection(c1,c2):\n",
    "                    if c1.is_active == c2.is_active:\n",
    "                        if np.random.rand(1) < 0.5:\n",
    "                            new_con.append(c1)\n",
    "                        else:\n",
    "                            new_con.append(c2)\n",
    "                        break\n",
    "                    elif fit1 >= fit2:\n",
    "                        new_con.append(c1)\n",
    "                    else:\n",
    "                        new_con.append(c2)\n",
    "\n",
    "        if fit1 >= fit2:\n",
    "            for c1 in con1:\n",
    "                if not self.contains_connection(c1, new_con):\n",
    "                    new_con.append(c1)\n",
    "        else:\n",
    "            for c2 in con2:\n",
    "                if not self.contains_connection(c2, new_con):\n",
    "                    new_con.append(c2)\n",
    "\n",
    "        g = Genom(2,1)\n",
    "        g.in_Nodes = genom1.in_Nodes\n",
    "        g.out_Nodes = genom1.out_Nodes\n",
    "        hidden_Nodes = []\n",
    "        hidden_keys = []\n",
    "        for c in new_con:\n",
    "            if not c.in_Node.key in hidden_keys and c.in_Node.type == \"hidden\":\n",
    "                hidden_keys.append(c.in_Node.key)\n",
    "                hidden_Nodes.append(Node(c.in_Node.key))\n",
    "            if not c.out_Node.key in hidden_keys and c.out_Node.type == \"hidden\":\n",
    "                hidden_keys.append(c.out_Node.key)\n",
    "                hidden_Nodes.append(Node(c.out_Node.key))\n",
    "\n",
    "        g.hidden_Nodes = hidden_Nodes\n",
    "        g.connections = new_con\n",
    "        g.n_nodes = len(g.out_Nodes) + len(g.hidden_Nodes)\n",
    "        #g.visualize()\n",
    "\n",
    "        return g\n",
    "\n",
    "    \n",
    "    def crossover(self):\n",
    "        idx = [i for i in range(len(self.population))]\n",
    "        np.random.shuffle(idx)\n",
    "\n",
    "        child_pop = []\n",
    "\n",
    "        for i in range(0,len(idx),2):\n",
    "            child_pop.append((self.cross(self.population[i][0],self.population[i+1][0],self.population[i][1],self.population[i+1][1]),0))\n",
    "        return child_pop\n",
    "\n",
    "    def selection(self):\n",
    "        sortedPop = sorted(self.population, key=operator.itemgetter(1), reverse=True)\n",
    "        self.population = sortedPop[:self.popSize]\n",
    "\n",
    "    def fitness(self):\n",
    "        for i in range(len(self.population)):\n",
    "            tmp = 0\n",
    "\n",
    "            if np.round(self.population[i][0].forward([0,0])[0][1]) == 0:\n",
    "                tmp += 0.25\n",
    "            if np.round(self.population[i][0].forward([0,1])[0][1]) == 1:\n",
    "                tmp += 0.25\n",
    "            if np.round(self.population[i][0].forward([1,0])[0][1]) == 1:\n",
    "                tmp += 0.25\n",
    "            if np.round(self.population[i][0].forward([1,1])[0][1]) == 0:\n",
    "                tmp += 0.25\n",
    "            #print(genom.forward([0,0]))\n",
    "\n",
    "            t = list(self.population[i])\n",
    "            t[1] = tmp\n",
    "            self.population[i] = tuple(t)\n",
    "\n",
    "            \n",
    "    \n",
    "    def train(self, epochs = 100):\n",
    "        for i in range(epochs):\n",
    "            \n",
    "            print(\"Epoch: \" + str(i), end=\" \")\n",
    "            print(\"Acc: \" +str(self.population[0][1]))\n",
    "\n",
    "            if(self.population[0][1] == 1):\n",
    "               return self.population[0][0]\n",
    "            '''for p in self.population:\n",
    "                p[0].p_nodes()\n",
    "                p[0].p_connections()'''\n",
    "\n",
    "            child_pop = self.crossover()\n",
    "            self.mutate(child_pop)\n",
    "            self.population += child_pop\n",
    "\n",
    "            self.fitness()\n",
    "            self.selection()\n",
    "\n",
    "        return self.population[0][0]\n",
    "            \n",
    "            "
   ]
  },
  {
   "cell_type": "code",
   "execution_count": null,
   "metadata": {},
   "outputs": [],
   "source": [
    "nn = NN(popSize=100)\n",
    "best = nn.train()\n",
    "best.visualize()\n"
   ]
  }
 ],
 "metadata": {
  "kernelspec": {
   "display_name": "Python 3",
   "language": "python",
   "name": "python3"
  },
  "language_info": {
   "codemirror_mode": {
    "name": "ipython",
    "version": 3
   },
   "file_extension": ".py",
   "mimetype": "text/x-python",
   "name": "python",
   "nbconvert_exporter": "python",
   "pygments_lexer": "ipython3",
   "version": "3.10.4"
  },
  "orig_nbformat": 4
 },
 "nbformat": 4,
 "nbformat_minor": 2
}
