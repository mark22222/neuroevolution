{
 "cells": [
  {
   "attachments": {},
   "cell_type": "markdown",
   "metadata": {},
   "source": [
    "# Aufgabe 1 & 2"
   ]
  },
  {
   "cell_type": "code",
   "execution_count": null,
   "metadata": {},
   "outputs": [],
   "source": [
    "import numpy as np\n",
    "from tqdm import tqdm\n",
    "from time import sleep\n",
    "import operator\n",
    "import copy"
   ]
  },
  {
   "cell_type": "code",
   "execution_count": null,
   "metadata": {},
   "outputs": [],
   "source": [
    "class NN():\n",
    "    \"\"\"A class to build and train a neural network used to solve the XOR problem.\"\"\"\n",
    "    INPUT_NEURONS = 2\n",
    "    OUTPUT_NEURONS = 1\n",
    "\n",
    "    def __init__(self, hidden_neurons=2, pop_size=10):\n",
    "        \"\"\"Create a 3-layer NN with two input neurons, n hidden neurons and one output neuron.\n",
    "        \n",
    "        hidden_neurons -- the number of neurons in the NN's hidden layer\n",
    "        pop_size       -- the initial number of individuals in a population\n",
    "        \"\"\"\n",
    "        self.data = np.array([[0,0],\n",
    "                              [0,1],\n",
    "                              [1,0],\n",
    "                              [1,1]])\n",
    "        self.target = np.array([[0],[1],[1],[0]])\n",
    "\n",
    "        self.h_neurons = hidden_neurons\n",
    "\n",
    "        self.pop_size = pop_size\n",
    "        \n",
    "        self.w_hidden = [np.random.uniform(size=(NN.INPUT_NEURONS, self.h_neurons)) for _ in range(pop_size)]\n",
    "        self.w_out = [np.random.uniform(size=(self.h_neurons, NN.OUTPUT_NEURONS)) for _ in range(pop_size)]\n",
    "\n",
    "        self.b_hidden = [np.random.uniform(size=(1, self.h_neurons)) for _ in range(pop_size)]\n",
    "        self.b_out = [np.random.uniform(size=(1, NN.OUTPUT_NEURONS)) for _ in range(pop_size)]\n",
    "\n",
    "        self.z0s = []\n",
    "        self.z1s = []\n",
    "\n",
    "        print(\"Initial weights: \")\n",
    "        self.print_weights()\n",
    "\n",
    "    def ReLU(self, x):\n",
    "        \"\"\"ReLU activation function\"\"\"\n",
    "        return x * (x > 0) \n",
    "    \n",
    "    def sigmoid(self, x):\n",
    "        \"\"\"Sigmoid activation function\"\"\"\n",
    "        return 1/(1 + np.exp(-x))\n",
    "    \n",
    "    def BCEL(self, y, y_hat):\n",
    "        \"\"\"Binary Cross-Entropy Loss\n",
    "        \n",
    "        y     -- the ground truth\n",
    "        y_hat -- the NN's prediction\n",
    "        \"\"\"\n",
    "        return -(y*np.log(y_hat) + (1-y) * np.log(1-y_hat))\n",
    "    \n",
    "    def execute(self, x):\n",
    "        \"\"\"Execute the NN for a given input, return its result.\"\"\"\n",
    "\n",
    "        # For the execution, the weights of the first (index 0) individual in the population are used.\n",
    "        result = self.sigmoid(self.forward_pass(0, x)[0])\n",
    "        return np.round(result[0])\n",
    "    \n",
    "    def forward_pass(self, index, x):\n",
    "        \"\"\"Carry out the forward pass.\n",
    "        \n",
    "        index -- for using the weights of one specific individual of the population\n",
    "        \"\"\"\n",
    "        x = np.array(x)\n",
    "        z0 = np.dot(x, self.w_hidden[index]) + self.b_hidden[index]\n",
    "        hidden = self.ReLU(z0)\n",
    "        z1 = np.dot(hidden, self.w_out[index]) + self.b_out[index]\n",
    "        return z1, z0\n",
    "\n",
    "\n",
    "    def neuro_train(self, print_details = True, crossover = False):\n",
    "        \"\"\"Train the NN's weights using evolutionary algorithms.\"\"\"\n",
    "        epoch = 1\n",
    "        # The weights of the first (index 0) individual in the population are used to check the NN's accuracy.\n",
    "        while self.accuracy(0)[0] != 1:\n",
    "            if print_details: print(\"Epoch: \" + str(epoch) + \" current acc: \" + str(self.accuracy(0)[0]))\n",
    "\n",
    "            w_out = self.copy(self.w_out)\n",
    "            b_out = self.copy(self.b_out)\n",
    "            w_hidden = self.copy(self.w_hidden)\n",
    "            b_hidden = self.copy(self.b_hidden)\n",
    "            \n",
    "            if crossover:\n",
    "                w_out = self.crossover(w_out)\n",
    "                b_out = self.crossover(b_out)\n",
    "                w_hidden = self.crossover(w_hidden)\n",
    "                b_hidden = self.crossover(b_hidden)\n",
    "\n",
    "            self.mutation(w_out)\n",
    "            self.mutation(b_out)\n",
    "            self.mutation(w_hidden)\n",
    "            self.mutation(b_hidden)\n",
    "            \n",
    "            self.w_out += w_out\n",
    "            self.w_hidden += w_hidden\n",
    "            self.b_out += b_out\n",
    "            self.b_hidden += b_hidden\n",
    "\n",
    "            f_list = self.fitness()\n",
    "            self.selection(f_list)\n",
    "\n",
    "            epoch += 1\n",
    "\n",
    "        print(\"Epoch: \" + str(epoch) + \" current acc: \" + str(self.accuracy(0)[0]))\n",
    "        self.print_weights()\n",
    "    \n",
    "    def copy(self, weight):\n",
    "        \"\"\"Create a copy of a given weight (list).\"\"\"\n",
    "        new_weight = []\n",
    "        for w in weight:\n",
    "            new_weight.append(w.copy())\n",
    "        return new_weight\n",
    "    \n",
    "    def fitness(self):\n",
    "        \"\"\"Calculate the fitness of each individual in the population, using the respective loss.\"\"\"\n",
    "        f_list = []\n",
    "        for i in range(len(self.w_hidden)):\n",
    "            acc, loss = self.accuracy(i)\n",
    "            f_list += [1-acc+loss]\n",
    "        return f_list\n",
    "\n",
    "    def selection(self, f_list, use_prop_slct = False):\n",
    "        \"\"\"Select a subset of the population to be kept.\n",
    "        \n",
    "        f_list        -- list of fitness values for every individual\n",
    "        use_prop_slct -- whether to use fitness proportional selection (default False)\n",
    "        \"\"\"\n",
    "        dic = dict()\n",
    "        for i in range(len(f_list)):\n",
    "            dic.update([(i,f_list[i])])\n",
    "        sortedPop = sorted(dic.items(), key=operator.itemgetter(1), reverse=False)\n",
    "        last = sortedPop[self.pop_size:]\n",
    "        last.sort()\n",
    "        c = 0\n",
    "        for index in last:\n",
    "            del self.w_out[index[0]-c]\n",
    "            del self.w_hidden[index[0]-c]\n",
    "            del self.b_out[index[0]-c]\n",
    "            del self.b_hidden[index[0]-c]\n",
    "            c += 1\n",
    "        \n",
    "\n",
    "    def crossover(self, weight):\n",
    "        \"\"\"Perform a crossover on a given weight (list).\"\"\"\n",
    "        w = np.zeros(shape=(len(weight), weight[0].shape[0], weight[0].shape[1]))\n",
    "        lis = [i for i in range(len(weight))]\n",
    "        np.random.shuffle(lis)\n",
    "        for k in range(0, len(weight), 2):\n",
    "            # prevent overflow in case of odd number of individuals\n",
    "            if len(weight) % 2 != 0 and k == len(weight)-1: break\n",
    "            for i in range(0, weight[0].shape[0]):\n",
    "                for j in range(0, weight[0].shape[1]):\n",
    "                    if np.random.sample() > 0.5:\n",
    "                        w[lis[k]][i][j] = weight[lis[k+1]][i][j]\n",
    "                        w[lis[k+1]][i][j] = weight[lis[k]][i][j]\n",
    "                    else:\n",
    "                        w[lis[k]][i][j] = weight[lis[k]][i][j]\n",
    "                        w[lis[k+1]][i][j] = weight[lis[k+1]][i][j]\n",
    "        return list(w)\n",
    "\n",
    "    def mutation(self, weight):\n",
    "        \"\"\"Mutate a given weight (list) by adding values sampled from a normal destribution onto each entry.\"\"\"\n",
    "        for k in range(len(weight)):\n",
    "            for i in range(len(weight[k])):\n",
    "                for j in range(len(weight[k][i])):\n",
    "                    weight[k][i][j] += np.random.normal(0,0.1)\n",
    "\n",
    "\n",
    "    def print_weights(self):\n",
    "        \"\"\"Print the weights of the NN.\"\"\"\n",
    "\n",
    "        print(\"W_hidden: \" + str(self.w_hidden[0])) \n",
    "        print(\"B_hidden: \" + str(self.b_hidden[0])) \n",
    "        print(\"W_out: \" + str(self.w_out[0])) \n",
    "        print(\"B_out: \" + str(self.b_out[0]), end=\"\\n\\n\")\n",
    "        pass\n",
    "\n",
    "    def accuracy(self, index):\n",
    "        \"\"\"Calculate the accuracy and loss of the NN for a specific individual.\n",
    "        \n",
    "        index -- for using the weights of one specific individual of the population\n",
    "        \"\"\"\n",
    "        counter = 0\n",
    "        for i in range(len(self.data)):\n",
    "            if(self.execute(self.data[i]) == self.target[i]):\n",
    "                counter += 1\n",
    "        \n",
    "        loss = 0\n",
    "        for i in range(len(self.data)):\n",
    "            loss += self.BCEL(self.target[i], self.sigmoid(self.forward_pass(index, self.data[i])[0]))\n",
    "\n",
    "        return counter / len(self.data), loss / len(self.data)\n",
    "    "
   ]
  },
  {
   "cell_type": "code",
   "execution_count": null,
   "metadata": {},
   "outputs": [],
   "source": [
    "nn = NN(4, pop_size=10)"
   ]
  },
  {
   "cell_type": "code",
   "execution_count": null,
   "metadata": {},
   "outputs": [],
   "source": [
    "nn.neuro_train(print_details=True, crossover=True)"
   ]
  },
  {
   "cell_type": "code",
   "execution_count": null,
   "metadata": {},
   "outputs": [],
   "source": [
    "for i in nn.data:\n",
    "    print(nn.execute(i))"
   ]
  },
  {
   "attachments": {},
   "cell_type": "markdown",
   "metadata": {},
   "source": [
    "Bei \"Fitness Proportionate Selection\" ist die Wahrscheinlichkeit eines jeden Individuums, selektiert zu werden, mit unserer Fitness-Funktion ziemlich klein. \"Elitist Selection\" bringt wiederum Konstanz in die Populationsgröße."
   ]
  },
  {
   "attachments": {},
   "cell_type": "markdown",
   "metadata": {},
   "source": [
    "# Aufgabe 3\n"
   ]
  },
  {
   "cell_type": "code",
   "execution_count": null,
   "metadata": {},
   "outputs": [],
   "source": [
    "import tensorflow as tf"
   ]
  },
  {
   "cell_type": "code",
   "execution_count": null,
   "metadata": {},
   "outputs": [],
   "source": [
    "model = tf.keras.models.Sequential([\n",
    "  tf.keras.layers.Flatten(input_shape=(2, 1)),\n",
    "  tf.keras.layers.Dense(8, activation='relu'),\n",
    "  tf.keras.layers.Dense(1, activation='sigmoid')\n",
    "])"
   ]
  },
  {
   "cell_type": "code",
   "execution_count": null,
   "metadata": {},
   "outputs": [],
   "source": [
    "loss_fn = tf.keras.losses.BinaryCrossentropy()\n",
    "\n",
    "model.compile(loss=loss_fn,\n",
    "              metrics=['accuracy'])"
   ]
  },
  {
   "cell_type": "code",
   "execution_count": null,
   "metadata": {},
   "outputs": [],
   "source": [
    "data = np.array([[0,0],\n",
    "              [0,1],\n",
    "              [1,0],\n",
    "              [1,1]])\n",
    "\n",
    "target = np.array([[0],[1],[1],[0]])"
   ]
  },
  {
   "cell_type": "code",
   "execution_count": null,
   "metadata": {},
   "outputs": [],
   "source": [
    "model.fit(data, target, epochs=300)"
   ]
  },
  {
   "cell_type": "code",
   "execution_count": null,
   "metadata": {},
   "outputs": [],
   "source": [
    "model.evaluate(data,  target, verbose=2)"
   ]
  },
  {
   "attachments": {},
   "cell_type": "markdown",
   "metadata": {},
   "source": [
    "Von den drei Verfahren wird das Training bis hin zu einer Accuracy von 1 im Allgemeinen am schnellsten von dem Modell, das evolutionäre Algorithmen nutzt, durchgeführt. Am langsamsten ist die manuelle Variante. "
   ]
  }
 ],
 "metadata": {
  "kernelspec": {
   "display_name": "Python 3",
   "language": "python",
   "name": "python3"
  },
  "language_info": {
   "codemirror_mode": {
    "name": "ipython",
    "version": 3
   },
   "file_extension": ".py",
   "mimetype": "text/x-python",
   "name": "python",
   "nbconvert_exporter": "python",
   "pygments_lexer": "ipython3",
   "version": "3.10.4"
  },
  "orig_nbformat": 4
 },
 "nbformat": 4,
 "nbformat_minor": 2
}
