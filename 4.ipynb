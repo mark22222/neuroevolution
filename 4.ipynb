{
 "cells": [
  {
   "cell_type": "code",
   "execution_count": 172,
   "metadata": {},
   "outputs": [],
   "source": [
    "import numpy as np\n",
    "from tqdm import tqdm\n",
    "from time import sleep"
   ]
  },
  {
   "cell_type": "code",
   "execution_count": 173,
   "metadata": {},
   "outputs": [],
   "source": [
    "class NN():\n",
    "\n",
    "    #creates a 3 layer NN with 2 input neuron, n hidden neuron and 1 ouput neuron\n",
    "    def __init__(self, hiddenLayer_neuron = 2, pop_size = 2):\n",
    "\n",
    "        self.data = np.array([[0,0],\n",
    "                              [0,1],\n",
    "                              [1,0],\n",
    "                              [1,1]])\n",
    "        self.target = np.array([[0],[1],[1],[0]])\n",
    "\n",
    "        self.hl_neuron = hiddenLayer_neuron\n",
    "\n",
    "        self.pop_size = pop_size\n",
    "        \n",
    "        self.w_hidden = [np.random.uniform(size=(2,self.hl_neuron)) for _ in range(pop_size)]\n",
    "        self.w_out = [np.random.uniform(size=(self.hl_neuron,1)) for _ in range(pop_size)]\n",
    "\n",
    "        self.b_hidden = [np.random.uniform(size=(1,self.hl_neuron)) for _ in range(pop_size)]\n",
    "        self.b_out = [np.random.uniform(size=(1,1)) for _ in range(pop_size)]\n",
    "\n",
    "        self.z0s = []\n",
    "        self.z1s = []\n",
    "\n",
    "        print(\"Init: \")\n",
    "        self.print_weights()\n",
    "\n",
    "    #ReLU function\n",
    "    def ReLU(self,x):\n",
    "        return x * (x > 0) \n",
    "    \n",
    "    #binary cross entropy loss function\n",
    "    def bcel(self, y, y_hat):\n",
    "        return -(y*np.log(y_hat) + (1-y) * np.log(1-y_hat))\n",
    "\n",
    "    #sigmoid function\n",
    "    def sigmoid(self,x):\n",
    "        return 1/(1 + np.exp(-x))\n",
    "    \n",
    "    #Execute the NN with input x\n",
    "    def execute(self,x):\n",
    "        result = self.sigmoid(self.forward_pass(x)[0])\n",
    "        return np.round(result)\n",
    "    \n",
    "    #forward pass\n",
    "    def forward_pass(self,x):\n",
    "        x = np.array(x)\n",
    "        z0 = np.dot(x,self.w_hidden) + self.b_hidden\n",
    "        hidden = self.ReLU(z0)\n",
    "        z1 = np.dot(hidden,self.w_out) + self.b_out\n",
    "        return z1, z0\n",
    "\n",
    "    def neuro_train(self):\n",
    "        self.mutation(self.w_hidden)\n",
    "        self.mutation(self.w_out)\n",
    "        self.mutation(self.b_hidden)\n",
    "        self.mutation(self.b_out)\n",
    "        self.print_weights()\n",
    "        self.w_out.append(self.crossover(self.w_out))\n",
    "        self.print_weights()\n",
    "\n",
    "\n",
    "    def crossover(self, weight):\n",
    "        w = np.zeros(shape=(self.pop_size,weight[0].shape[0],weight[0].shape[1]))\n",
    "        lis = [i for i in range(self.pop_size)]\n",
    "        np.random.shuffle(lis)\n",
    "        for k in range(self.pop_size // 2):\n",
    "            for i in range(weight[0].shape[0]):\n",
    "                for j in range(weight[0].shape[1]):\n",
    "                    if np.random.randint(0,2):\n",
    "                        w[lis[2*k]][i][j] = weight[lis[2*k+1]][i][j]\n",
    "                        w[lis[2*k+1]][i][j] = weight[lis[2*k]][i][j]\n",
    "                    else:\n",
    "                        w[lis[2*k]][i][j] = weight[lis[2*k]][i][j]\n",
    "                        w[lis[2*k+1]][i][j] = weight[lis[2*k+1]][i][j]\n",
    "        return w\n",
    "\n",
    "    def mutation(self, weight):\n",
    "        for k in range(len(weight)):\n",
    "            for i in range(weight[k].shape[0]):\n",
    "                for j in range(weight[k].shape[1]):\n",
    "                    weight[k][i][j] += np.random.normal(0,0.1)\n",
    "\n",
    "    #prints the weights of the nn  \n",
    "    def print_weights(self):\n",
    "        #print(\"W_hidden: \" + str(self.w_hidden)) \n",
    "        #print(\"B_hidden: \" + str(self.b_hidden)) \n",
    "        print(\"W_out: \" + str(self.w_out)) \n",
    "        #print(\"B_out: \" + str(self.b_out), end=\"\\n\\n\")\n",
    "\n",
    "    #calculates the accuracy and current loss of the nn\n",
    "    def accuracy(self):\n",
    "        counter = 0\n",
    "    \n",
    "        for i in range(len(self.data)):\n",
    "            if(self.execute(self.data[i]) == self.target[i]):\n",
    "                counter += 1\n",
    "        loss = 0\n",
    "        for i in range(len(self.data)):\n",
    "            loss += self.bcel(self.target[i],self.sigmoid(self.forward_pass(self.data[i])[0]))\n",
    "\n",
    "        return counter / len(self.data), loss / len(self.data)\n",
    "    "
   ]
  },
  {
   "cell_type": "code",
   "execution_count": 174,
   "metadata": {},
   "outputs": [
    {
     "name": "stdout",
     "output_type": "stream",
     "text": [
      "Init: \n",
      "W_out: [array([[0.27776003],\n",
      "       [0.48015578]]), array([[0.77917631],\n",
      "       [0.67418224]])]\n"
     ]
    }
   ],
   "source": [
    "nn = NN(2, pop_size= 2)"
   ]
  },
  {
   "cell_type": "code",
   "execution_count": 175,
   "metadata": {},
   "outputs": [
    {
     "name": "stdout",
     "output_type": "stream",
     "text": [
      "W_out: [array([[0.20541885],\n",
      "       [0.46573567]]), array([[0.72962354],\n",
      "       [0.63777481]])]\n",
      "W_out: [array([[0.20541885],\n",
      "       [0.46573567]]), array([[0.72962354],\n",
      "       [0.63777481]]), array([[[0.20541885],\n",
      "        [0.63777481]],\n",
      "\n",
      "       [[0.72962354],\n",
      "        [0.46573567]]])]\n"
     ]
    }
   ],
   "source": [
    "nn.neuro_train()\n",
    "#nn.train(epochs = -1)"
   ]
  },
  {
   "attachments": {},
   "cell_type": "markdown",
   "metadata": {},
   "source": []
  },
  {
   "cell_type": "code",
   "execution_count": 176,
   "metadata": {},
   "outputs": [
    {
     "ename": "ValueError",
     "evalue": "setting an array element with a sequence. The requested array has an inhomogeneous shape after 2 dimensions. The detected shape was (3, 2) + inhomogeneous part.",
     "output_type": "error",
     "traceback": [
      "\u001b[1;31m---------------------------------------------------------------------------\u001b[0m",
      "\u001b[1;31mValueError\u001b[0m                                Traceback (most recent call last)",
      "\u001b[1;32mc:\\Users\\Mark\\Desktop\\MA1\\NE\\neuroevolution\\4.ipynb Cell 6\u001b[0m in \u001b[0;36m<cell line: 1>\u001b[1;34m()\u001b[0m\n\u001b[1;32m----> <a href='vscode-notebook-cell:/c%3A/Users/Mark/Desktop/MA1/NE/neuroevolution/4.ipynb#W5sZmlsZQ%3D%3D?line=0'>1</a>\u001b[0m \u001b[39mprint\u001b[39m(nn\u001b[39m.\u001b[39;49mexecute([\u001b[39m0\u001b[39;49m,\u001b[39m0\u001b[39;49m]))\n\u001b[0;32m      <a href='vscode-notebook-cell:/c%3A/Users/Mark/Desktop/MA1/NE/neuroevolution/4.ipynb#W5sZmlsZQ%3D%3D?line=1'>2</a>\u001b[0m \u001b[39mprint\u001b[39m(nn\u001b[39m.\u001b[39mexecute([\u001b[39m0\u001b[39m,\u001b[39m1\u001b[39m]))\n\u001b[0;32m      <a href='vscode-notebook-cell:/c%3A/Users/Mark/Desktop/MA1/NE/neuroevolution/4.ipynb#W5sZmlsZQ%3D%3D?line=2'>3</a>\u001b[0m \u001b[39mprint\u001b[39m(nn\u001b[39m.\u001b[39mexecute([\u001b[39m1\u001b[39m,\u001b[39m0\u001b[39m]))\n",
      "\u001b[1;32mc:\\Users\\Mark\\Desktop\\MA1\\NE\\neuroevolution\\4.ipynb Cell 6\u001b[0m in \u001b[0;36mNN.execute\u001b[1;34m(self, x)\u001b[0m\n\u001b[0;32m     <a href='vscode-notebook-cell:/c%3A/Users/Mark/Desktop/MA1/NE/neuroevolution/4.ipynb#W5sZmlsZQ%3D%3D?line=40'>41</a>\u001b[0m \u001b[39mdef\u001b[39;00m \u001b[39mexecute\u001b[39m(\u001b[39mself\u001b[39m,x):\n\u001b[1;32m---> <a href='vscode-notebook-cell:/c%3A/Users/Mark/Desktop/MA1/NE/neuroevolution/4.ipynb#W5sZmlsZQ%3D%3D?line=41'>42</a>\u001b[0m     result \u001b[39m=\u001b[39m \u001b[39mself\u001b[39m\u001b[39m.\u001b[39msigmoid(\u001b[39mself\u001b[39;49m\u001b[39m.\u001b[39;49mforward_pass(x)[\u001b[39m0\u001b[39m])\n\u001b[0;32m     <a href='vscode-notebook-cell:/c%3A/Users/Mark/Desktop/MA1/NE/neuroevolution/4.ipynb#W5sZmlsZQ%3D%3D?line=42'>43</a>\u001b[0m     \u001b[39mreturn\u001b[39;00m np\u001b[39m.\u001b[39mround(result)\n",
      "\u001b[1;32mc:\\Users\\Mark\\Desktop\\MA1\\NE\\neuroevolution\\4.ipynb Cell 6\u001b[0m in \u001b[0;36mNN.forward_pass\u001b[1;34m(self, x)\u001b[0m\n\u001b[0;32m     <a href='vscode-notebook-cell:/c%3A/Users/Mark/Desktop/MA1/NE/neuroevolution/4.ipynb#W5sZmlsZQ%3D%3D?line=47'>48</a>\u001b[0m z0 \u001b[39m=\u001b[39m np\u001b[39m.\u001b[39mdot(x,\u001b[39mself\u001b[39m\u001b[39m.\u001b[39mw_hidden) \u001b[39m+\u001b[39m \u001b[39mself\u001b[39m\u001b[39m.\u001b[39mb_hidden\n\u001b[0;32m     <a href='vscode-notebook-cell:/c%3A/Users/Mark/Desktop/MA1/NE/neuroevolution/4.ipynb#W5sZmlsZQ%3D%3D?line=48'>49</a>\u001b[0m hidden \u001b[39m=\u001b[39m \u001b[39mself\u001b[39m\u001b[39m.\u001b[39mReLU(z0)\n\u001b[1;32m---> <a href='vscode-notebook-cell:/c%3A/Users/Mark/Desktop/MA1/NE/neuroevolution/4.ipynb#W5sZmlsZQ%3D%3D?line=49'>50</a>\u001b[0m z1 \u001b[39m=\u001b[39m np\u001b[39m.\u001b[39;49mdot(hidden,\u001b[39mself\u001b[39;49m\u001b[39m.\u001b[39;49mw_out) \u001b[39m+\u001b[39m \u001b[39mself\u001b[39m\u001b[39m.\u001b[39mb_out\n\u001b[0;32m     <a href='vscode-notebook-cell:/c%3A/Users/Mark/Desktop/MA1/NE/neuroevolution/4.ipynb#W5sZmlsZQ%3D%3D?line=50'>51</a>\u001b[0m \u001b[39mreturn\u001b[39;00m z1, z0\n",
      "File \u001b[1;32m<__array_function__ internals>:200\u001b[0m, in \u001b[0;36mdot\u001b[1;34m(*args, **kwargs)\u001b[0m\n",
      "\u001b[1;31mValueError\u001b[0m: setting an array element with a sequence. The requested array has an inhomogeneous shape after 2 dimensions. The detected shape was (3, 2) + inhomogeneous part."
     ]
    }
   ],
   "source": [
    "print(nn.execute([0,0]))\n",
    "print(nn.execute([0,1]))\n",
    "print(nn.execute([1,0]))\n",
    "print(nn.execute([1,1]))"
   ]
  },
  {
   "cell_type": "code",
   "execution_count": null,
   "metadata": {},
   "outputs": [
    {
     "name": "stdout",
     "output_type": "stream",
     "text": [
      "20\n"
     ]
    }
   ],
   "source": [
    "a = [np.random.uniform(size=(2,8)) for _ in range(20)]\n",
    "print(len(a))"
   ]
  }
 ],
 "metadata": {
  "kernelspec": {
   "display_name": "Python 3",
   "language": "python",
   "name": "python3"
  },
  "language_info": {
   "codemirror_mode": {
    "name": "ipython",
    "version": 3
   },
   "file_extension": ".py",
   "mimetype": "text/x-python",
   "name": "python",
   "nbconvert_exporter": "python",
   "pygments_lexer": "ipython3",
   "version": "3.11.3"
  },
  "orig_nbformat": 4
 },
 "nbformat": 4,
 "nbformat_minor": 2
}
