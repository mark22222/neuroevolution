{
 "cells": [
  {
   "cell_type": "code",
   "execution_count": 590,
   "metadata": {},
   "outputs": [],
   "source": [
    "import torch\n",
    "import torch.nn as nn\n",
    "import torch.optim as optim\n",
    "import torch.nn.functional as funct\n",
    "import gymnasium as gym\n",
    "import numpy as np\n",
    "from collections import namedtuple\n",
    "from matplotlib import pyplot as plt\n",
    "import numpy as np\n",
    "import scipy.optimize as opt"
   ]
  },
  {
   "cell_type": "code",
   "execution_count": 591,
   "metadata": {},
   "outputs": [],
   "source": [
    "env = gym.make(\"CartPole-v1\")"
   ]
  },
  {
   "cell_type": "code",
   "execution_count": 592,
   "metadata": {},
   "outputs": [],
   "source": [
    "class NN(nn.Module):\n",
    "    \"\"\"A Feed Forward Neural Network used for Deep-Q-Learning to solve the cartpole problem.\"\"\"\n",
    "    def __init__(self, obs_dim, n_actions):\n",
    "        super(NN, self).__init__()      \n",
    "        # The input (an observation/a state) has shape (4,) [cart pos, cart vel, pole angle, pole angular vel]\n",
    "        self.fc1 = nn.Linear(*obs_dim, 128) # * to convert tuple (4,) to 4\n",
    "        self.fc2 = nn.Linear(128, 128)\n",
    "        self.fc3 = nn.Linear(128, n_actions) # n_actions == 2\n",
    "\n",
    "        self.optimizer = optim.Adam(self.parameters(), lr=1e-4)\n",
    "        self.loss = nn.MSELoss() #TODO: Possibly replace with nn.HuberLoss or SmoothL1Loss\n",
    "        self.device = torch.device(\"cuda\" if torch.cuda.is_available() else \"cpu\")\n",
    "        self.to(self.device)\n",
    "\n",
    "    def forward(self, x):\n",
    "        x = funct.relu(self.fc1(x))\n",
    "        x = funct.relu(self.fc2(x))\n",
    "        return self.fc3(x)"
   ]
  },
  {
   "cell_type": "code",
   "execution_count": 593,
   "metadata": {},
   "outputs": [],
   "source": [
    "class ReplayBuffer(object):\n",
    "    \"\"\"A buffer in which the last <mem_size> trajectories are saved for later reuse.\n",
    "    For training the DQN [train()], trajectories are sampled from it randomly.\n",
    "    \"\"\"\n",
    "    def __init__(self, mem_size, obs_dim):\n",
    "        # The maximum number of trajectories that are being kept track of at once.\n",
    "        self.mem_size = mem_size\n",
    "        # Tracking the number of additions made to the buffer.\n",
    "        self.save_cntr = 0\n",
    "        self.action_memory = np.zeros(self.mem_size, dtype=np.int32)\n",
    "        self.reward_memory = np.zeros(self.mem_size, dtype=np.float32)\n",
    "        self.terminal_memory = np.zeros(self.mem_size, dtype=bool)\n",
    "        self.state_memory = np.zeros((self.mem_size, *obs_dim),dtype=np.float32)\n",
    "        self.new_state_memory = np.zeros((self.mem_size, *obs_dim), dtype=np.float32)\n",
    "\n",
    "    def save(self, state, action, reward, state_, is_terminal):\n",
    "        index = self.save_cntr % self.mem_size\n",
    "\n",
    "        self.state_memory[index] = state\n",
    "        self.action_memory[index] = action\n",
    "        self.reward_memory[index] = reward\n",
    "        self.new_state_memory[index] = state_\n",
    "        self.terminal_memory[index] = is_terminal\n",
    "\n",
    "        self.save_cntr += 1\n",
    "\n",
    "    def sample(self, batch_size):\n",
    "        max_mem = min(self.save_cntr, self.mem_size)\n",
    "        batch = np.random.choice(max_mem, batch_size, replace=False)\n",
    "\n",
    "        states = self.state_memory[batch]\n",
    "        actions = self.action_memory[batch]\n",
    "        rewards = self.reward_memory[batch]\n",
    "        states_ = self.new_state_memory[batch]\n",
    "        terminals = self.terminal_memory[batch]\n",
    "\n",
    "        return states, actions, rewards, states_, terminals\n"
   ]
  },
  {
   "cell_type": "code",
   "execution_count": 594,
   "metadata": {},
   "outputs": [],
   "source": [
    "class Agent():\n",
    "    def __init__(self, obs_dim, n_actions, discount, eps, eps_dec, eps_end, batch_size):\n",
    "        self.obs_dim = obs_dim\n",
    "        self.n_actions = n_actions\n",
    "        self.action_space = [i for i in range(n_actions)]\n",
    "        self.discount = discount\n",
    "        self.eps = eps\n",
    "        self.eps_dec = eps_dec\n",
    "        self.eps_min = eps_end\n",
    "        self.batch_size = batch_size\n",
    "        self.net = NN(obs_dim=self.obs_dim, n_actions=self.n_actions)\n",
    "        self.buf = ReplayBuffer(mem_size=1000, obs_dim=self.obs_dim)\n",
    "\n",
    "    def pick_action(self, state):\n",
    "        if np.random.random() > self.eps:\n",
    "            # Exploitation, meaning we use the model to choose what action (left or right) to take next\n",
    "            #state = torch.tensor(state, dtype=torch.float, device=self.net.device)#.unsqueeze(0)\n",
    "            actions = self.net.forward(state) # TODO: this instead of self.net(state) ?\n",
    "            action =  torch.argmax(actions).item()\n",
    "        else:\n",
    "            # Exploration, meaning we sample uniformly from the action space (left, right)\n",
    "            #action = torch.tensor([[env.action_space.sample()]], device=self.net.device, dtype=torch.long)\n",
    "            action = np.random.choice(self.action_space)\n",
    "\n",
    "        # decrease epsilon after every step up to eps_min\n",
    "        self.eps -= self.eps_dec if self.eps > self.eps_min else 0\n",
    "\n",
    "        return action\n",
    "        \n",
    "    def train(self):\n",
    "        if self.buf.save_cntr < self.batch_size: return \n",
    "        self.net.optimizer.zero_grad()\n",
    "\n",
    "        batch_index = np.arange(self.batch_size, dtype=np.int32)\n",
    "        s, a, r, s_, t = self.buf.sample(self.batch_size)\n",
    "\n",
    "        state_batch = torch.tensor(s).to(self.net.device)\n",
    "        action_batch = a\n",
    "        next_state_batch = torch.tensor(s_).to(self.net.device)\n",
    "        reward_batch = torch.tensor(r).to(self.net.device)\n",
    "        is_terminal_batch = torch.tensor(t).to(self.net.device)\n",
    "\n",
    "        q_now = self.net.forward(state_batch)[batch_index, action_batch]\n",
    "        q_next = self.net.forward(next_state_batch)\n",
    "        q_next[is_terminal_batch] = 0.0\n",
    "\n",
    "        q_target = reward_batch + self.discount*torch.max(q_next, dim=1)[0]\n",
    "\n",
    "        loss = self.net.loss(q_target, q_now).to(self.net.device)\n",
    "        loss.backward()\n",
    "        self.net.optimizer.step()"
   ]
  },
  {
   "cell_type": "code",
   "execution_count": 595,
   "metadata": {},
   "outputs": [],
   "source": [
    "def plot(scores):\n",
    "    plt.plot(scores)\n",
    "    plt.xlabel(\"Episode\")\n",
    "    plt.ylabel(\"Score\")\n",
    "    plt.show()"
   ]
  },
  {
   "cell_type": "code",
   "execution_count": 596,
   "metadata": {},
   "outputs": [],
   "source": [
    "def execute(n_episodes, print_freq = 100):\n",
    "    agent = Agent(obs_dim=env.observation_space.shape,\n",
    "                  n_actions=env.action_space.n,\n",
    "                  discount=0.99,\n",
    "                  eps=0.99, eps_dec=1e-4, eps_end=0.05, # TODO: Try decreasing eps_end\n",
    "                  batch_size=10)\n",
    "    episodes = n_episodes\n",
    "    # The i-th entry is the accumulated score of episode i\n",
    "    scores = []\n",
    "    for i in range(episodes+1):\n",
    "        score = 0\n",
    "        terminated = False\n",
    "        truncated = False\n",
    "        # This obs is the observation of the initial state\n",
    "        obs, _ = env.reset()\n",
    "        obs = torch.tensor(obs, dtype=torch.float, device=agent.net.device)\n",
    "\n",
    "        while not terminated and not truncated:\n",
    "            action = agent.pick_action(obs)\n",
    "            obs_, reward, terminated, truncated, _ = env.step(action)\n",
    "            # Save this transition into the the agent's ReplayBuffer\n",
    "            agent.buf.save(obs, action, reward, obs_, terminated or truncated)\n",
    "            score += reward\n",
    "            # Train the model using batch\n",
    "            agent.train()\n",
    "            # Moving to the next state: s_t := s_t+1\n",
    "            obs_ = torch.tensor(obs_, dtype=torch.float, device=agent.net.device)\n",
    "            obs = obs_\n",
    "        # the episode ended; the accumulated rewards are saved\n",
    "        scores.append(score)\n",
    "\n",
    "        if i % print_freq == 0:\n",
    "            # The mean of the last <print_freq> scores\n",
    "            avg_score = np.mean(scores[-print_freq:])\n",
    "            max_score = max(scores[-print_freq:])\n",
    "            print(f\"Episode: {i} -- Average score: {avg_score} -- Highest of last {print_freq}: {max_score}\")\n",
    "    plot(scores)"
   ]
  },
  {
   "cell_type": "code",
   "execution_count": 597,
   "metadata": {},
   "outputs": [
    {
     "name": "stdout",
     "output_type": "stream",
     "text": [
      "Episode: 0 -- Average score: 14.0 -- Highest of last 50: 14.0\n",
      "Episode: 50 -- Average score: 21.86 -- Highest of last 50: 76.0\n",
      "Episode: 100 -- Average score: 22.34 -- Highest of last 50: 68.0\n",
      "Episode: 150 -- Average score: 22.3 -- Highest of last 50: 73.0\n",
      "Episode: 200 -- Average score: 27.58 -- Highest of last 50: 92.0\n",
      "Episode: 250 -- Average score: 33.38 -- Highest of last 50: 106.0\n",
      "Episode: 300 -- Average score: 37.12 -- Highest of last 50: 114.0\n",
      "Episode: 350 -- Average score: 63.82 -- Highest of last 50: 123.0\n",
      "Episode: 400 -- Average score: 88.26 -- Highest of last 50: 150.0\n",
      "Episode: 450 -- Average score: 123.64 -- Highest of last 50: 253.0\n",
      "Episode: 500 -- Average score: 196.26 -- Highest of last 50: 500.0\n",
      "Episode: 550 -- Average score: 227.86 -- Highest of last 50: 500.0\n",
      "Episode: 600 -- Average score: 171.94 -- Highest of last 50: 301.0\n"
     ]
    },
    {
     "data": {
      "image/png": "[encoded data removed]",
      "text/plain": [
       "<Figure size 432x288 with 1 Axes>"
      ]
     },
     "metadata": {
      "needs_background": "light"
     },
     "output_type": "display_data"
    }
   ],
   "source": [
    "execute(n_episodes=600, print_freq=50)"
   ]
  }
 ],
 "metadata": {
  "kernelspec": {
   "display_name": "Python 3",
   "language": "python",
   "name": "python3"
  },
  "language_info": {
   "codemirror_mode": {
    "name": "ipython",
    "version": 3
   },
   "file_extension": ".py",
   "mimetype": "text/x-python",
   "name": "python",
   "nbconvert_exporter": "python",
   "pygments_lexer": "ipython3",
   "version": "3.10.4"
  },
  "orig_nbformat": 4
 },
 "nbformat": 4,
 "nbformat_minor": 2
}
