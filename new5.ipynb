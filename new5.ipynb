{
 "cells": [
  {
   "cell_type": "code",
   "execution_count": 22,
   "metadata": {},
   "outputs": [],
   "source": [
    "import torch\n",
    "import torch.nn as nn\n",
    "import torch.optim as optim\n",
    "import torch.nn.functional as funct\n",
    "import gymnasium as gym\n",
    "import numpy as np\n",
    "from matplotlib import pyplot as plt\n",
    "import numpy as np\n",
    "from time import sleep\n",
    "from IPython import display\n",
    "import copy\n",
    "from itertools import count"
   ]
  },
  {
   "cell_type": "code",
   "execution_count": 23,
   "metadata": {},
   "outputs": [],
   "source": [
    "#Just to get rid of annoying warnings\n",
    "import warnings\n",
    "warnings.simplefilter(action='ignore', category=FutureWarning)\n",
    "warnings.simplefilter(action='ignore', category=np.VisibleDeprecationWarning)\n",
    "warnings.simplefilter(action='ignore', category=UserWarning)"
   ]
  },
  {
   "cell_type": "code",
   "execution_count": 24,
   "metadata": {},
   "outputs": [],
   "source": [
    "env = gym.make(\"CartPole-v1\")"
   ]
  },
  {
   "cell_type": "code",
   "execution_count": 25,
   "metadata": {},
   "outputs": [],
   "source": [
    "class NN(nn.Module):\n",
    "    \"\"\"A Feed Forward Neural Network used for Deep-Q-Learning to solve the cartpole problem.\"\"\"\n",
    "    def __init__(self, obs_dim = env.observation_space.shape, n_actions = env.action_space.n):\n",
    "        super(NN, self).__init__()      \n",
    "        # The input (an observation/a state) has shape (4,) [cart pos, cart vel, pole angle, pole angular vel]\n",
    "        self.fc1 = nn.Linear(*obs_dim, 128) # * to convert tuple (4,) to 4\n",
    "        self.fc21 = nn.Linear(128, 128)\n",
    "        self.fc22 = nn.Linear(128, 128)\n",
    "        self.fc23 = nn.Linear(128, 128)\n",
    "        self.fc3 = nn.Linear(128, n_actions) # n_actions == 2\n",
    "\n",
    "        self.optimizer = optim.Adam(self.parameters(), lr=1e-4)\n",
    "        self.loss = nn.MSELoss() #Possibly replace with nn.HuberLoss or SmoothL1Loss -- MSELoss best !?\n",
    "        self.device = torch.device(\"cuda\" if torch.cuda.is_available() else \"cpu\")\n",
    "        self.to(self.device)\n",
    "\n",
    "    def forward(self, x):\n",
    "        x = funct.relu(self.fc1(x))\n",
    "        x = funct.relu(self.fc21(x))\n",
    "        x = funct.relu(self.fc22(x))\n",
    "        x = funct.relu(self.fc23(x))\n",
    "        return self.fc3(x)"
   ]
  },
  {
   "cell_type": "code",
   "execution_count": 26,
   "metadata": {},
   "outputs": [],
   "source": [
    "class ReplayBuffer(object):\n",
    "    \"\"\"A buffer in which the last <mem_size> trajectories are saved for later reuse.\n",
    "    For training the DQN [train()], trajectories are sampled from it randomly.\n",
    "    \"\"\"\n",
    "    def __init__(self, mem_size = 1000):\n",
    "        # The maximum number of trajectories that are being kept track of at once.\n",
    "        self.mem_size = mem_size\n",
    "        # Tracking the number of additions made to the buffer.\n",
    "        self.save_cntr = 0\n",
    "        #the memory which stores the trajectories\n",
    "        self.memory = []\n",
    "\n",
    "    #add a new trajectorie to the memory\n",
    "    def save(self, state, action, reward, state_, is_terminal):\n",
    "\n",
    "        #append if mem_size isn't reached\n",
    "        if self.save_cntr < self.mem_size:\n",
    "            self.memory.append([state,action,reward,state_,is_terminal])\n",
    "        #override otherwise\n",
    "        else:\n",
    "            index = self.save_cntr % self.mem_size\n",
    "            self.memory[index] = [state,action,reward,state_,is_terminal]\n",
    "\n",
    "        self.save_cntr += 1\n",
    "\n",
    "    #get a sample of size batch_size\n",
    "    def sample(self, batch_size):\n",
    "        \n",
    "        max_mem = min(self.save_cntr, self.mem_size)\n",
    "        batch = np.random.choice(max_mem, batch_size, replace=False)\n",
    "\n",
    "        mem_batch = []\n",
    "        \n",
    "        for i in batch:\n",
    "            mem_batch.append(self.memory[i])\n",
    "\n",
    "        states = [s[0].numpy() for s in mem_batch]\n",
    "        actions = [a[1] for a in mem_batch]\n",
    "        rewards = [r[2] for r in mem_batch]\n",
    "        states_ = [s[3] for s in mem_batch]\n",
    "        terminals = [t[4] for t in mem_batch]\n",
    "\n",
    "        return states,  actions, rewards, states_, terminals\n"
   ]
  },
  {
   "cell_type": "code",
   "execution_count": 27,
   "metadata": {},
   "outputs": [],
   "source": [
    "class Agent():\n",
    "    # represents the agent of the RL\n",
    "    def __init__(self, net = NN(), buf = ReplayBuffer(),\n",
    "                 obs_dim = env.observation_space.shape, n_actions = env.action_space.n, \n",
    "                 discount=0.99, eps = 0.99, eps_dec = 1e-4, eps_end = 0.05, batch_size = 10):\n",
    "        \n",
    "        self.obs_dim = obs_dim\n",
    "        self.n_actions = n_actions\n",
    "        self.action_space = [i for i in range(n_actions)]\n",
    "        self.discount = discount\n",
    "        self.eps = eps\n",
    "        self.eps_dec = eps_dec\n",
    "        self.eps_min = eps_end\n",
    "        self.batch_size = batch_size\n",
    "        self.net = net\n",
    "        self.buf = buf\n",
    "\n",
    "    def pick_action(self, state):\n",
    "        if np.random.random() > self.eps:\n",
    "            # Exploitation, meaning we use the model to choose what action (left or right) to take next\n",
    "            actions = self.net.forward(state) \n",
    "            action =  torch.argmax(actions).item()\n",
    "        else:\n",
    "            # Exploration, meaning we sample uniformly from the action space (left, right)\n",
    "            action = np.random.choice(self.action_space)\n",
    "\n",
    "        # decrease epsilon after every step up to eps_min\n",
    "        self.eps -= self.eps_dec if self.eps > self.eps_min else 0\n",
    "        return action\n",
    "    \n",
    "    #train the nn of the agent with the q algorithm   \n",
    "    def train(self):\n",
    "        \n",
    "        if self.buf.save_cntr < self.batch_size: return \n",
    "\n",
    "        self.net.optimizer.zero_grad()\n",
    "\n",
    "        batch_index = np.arange(self.batch_size, dtype=np.int32)\n",
    "        s, a, r, s_, t = self.buf.sample(self.batch_size)\n",
    "        \n",
    "        state_batch = torch.tensor(s).to(self.net.device)\n",
    "        action_batch = a\n",
    "        next_state_batch = torch.tensor(s_).to(self.net.device)\n",
    "        reward_batch = torch.tensor(r).to(self.net.device)\n",
    "        is_terminal_batch = torch.tensor(t).to(self.net.device)\n",
    "\n",
    "        #Q-Learning\n",
    "        q_now = self.net.forward(state_batch)[batch_index, action_batch]\n",
    "        q_next = self.net.forward(next_state_batch)\n",
    "        \n",
    "        q_next[is_terminal_batch] = 0.0\n",
    "\n",
    "        q_target = reward_batch + self.discount*torch.max(q_next, dim=1)[0]\n",
    "\n",
    "        loss = self.net.loss(q_target, q_now).to(self.net.device)\n",
    "        loss.backward()\n",
    "        self.net.optimizer.step()"
   ]
  },
  {
   "cell_type": "code",
   "execution_count": 28,
   "metadata": {},
   "outputs": [],
   "source": [
    "#plot the result (score after episodes)\n",
    "#blue: score per episode\n",
    "#red: mean score for the last n episodes\n",
    "def plot(scores, means):\n",
    "    plt.plot(scores, color=\"b\")\n",
    "    plt.plot(means, color=\"r\")\n",
    "    plt.xlabel(\"Episode\")\n",
    "    plt.ylabel(\"Score\")\n",
    "    plt.show()"
   ]
  },
  {
   "cell_type": "code",
   "execution_count": 29,
   "metadata": {},
   "outputs": [],
   "source": [
    "#run the algorithm and train the agent\n",
    "#min_episodes: the agent will be trained for atleast min_episodes episodes\n",
    "#e_train: True -> break after min_episodes; False -> break after min_episodes and if the agent didn't achived a better score\n",
    "def execute(min_episodes = 400, e_train = False, update_freq = 100, agent = Agent(), max_repeats = 3):\n",
    "    \n",
    "    #stores the scores and mean scores\n",
    "    scores, means = [], []\n",
    "\n",
    "    counter = 1\n",
    "    repeat = 0\n",
    "    highest_score = 0\n",
    "\n",
    "    #stores the best agent\n",
    "    best_agent = None\n",
    "\n",
    "    for counter in count(1):\n",
    "        \n",
    "        score = 0\n",
    "        terminated = False\n",
    "        truncated = False\n",
    "\n",
    "        # This obs is the observation of the initial state\n",
    "        obs, _ = env.reset()\n",
    "        obs = torch.tensor(obs, dtype=torch.float, device=agent.net.device)\n",
    "\n",
    "        while not terminated and not truncated:\n",
    "            action = agent.pick_action(obs)\n",
    "            obs_, reward, terminated, truncated, _ = env.step(action)\n",
    "            # Save this transition into the the agent's ReplayBuffer\n",
    "            agent.buf.save(obs, action, reward, obs_, terminated or truncated)\n",
    "            score += reward\n",
    "            # Train the model using batch\n",
    "            agent.train()\n",
    "            # Moving to the next state: s_t := s_t+1\n",
    "            obs = torch.tensor(obs_, dtype=torch.float, device=agent.net.device)\n",
    "            \n",
    "        # the episode ended; the accumulated rewards are saved\n",
    "        scores.append(score)\n",
    "        means.append(np.mean(scores[-update_freq:]))\n",
    "\n",
    "        #print the score after ever n episodes; \n",
    "        if counter % update_freq == 0:\n",
    "            # The mean of the last <update_freq> scores\n",
    "            repeat += 1\n",
    "            avg_score = np.mean(scores[-update_freq:])\n",
    "            max_score = max(scores[-update_freq:])\n",
    "            print(f\"Episode: {counter} -- Average score: {avg_score} -- Highest of last {update_freq}: {max_score}\")\n",
    "\n",
    "            #if a new best avg_score are achived: store the agent as new best_agent\n",
    "            if avg_score > highest_score:\n",
    "                best_agent = copy.deepcopy(agent)\n",
    "                repeat = 0\n",
    "                highest_score = avg_score\n",
    "        \n",
    "        #if min_episoded are reached (and the agent didn't get better): break\n",
    "        if counter >= min_episodes and (e_train or repeat >= max_repeats):\n",
    "            break\n",
    "    \n",
    "    plot(scores, means)\n",
    "\n",
    "    return best_agent"
   ]
  },
  {
   "cell_type": "code",
   "execution_count": 30,
   "metadata": {},
   "outputs": [],
   "source": [
    "agent = Agent(buf=ReplayBuffer(mem_size=1000))"
   ]
  },
  {
   "attachments": {},
   "cell_type": "markdown",
   "metadata": {},
   "source": [
    "# Hinweis\n",
    "\n",
    "Das Training kann etwas länger dauern!!! Um ein \"schnelles\" Training zu bekommen, setze min_episodes auf 400 und e_Train auf True. Das Ergebniss ist aber nicht optimal!!! "
   ]
  },
  {
   "cell_type": "code",
   "execution_count": 31,
   "metadata": {},
   "outputs": [
    {
     "name": "stdout",
     "output_type": "stream",
     "text": [
      "Episode: 50 -- Average score: 18.26 -- Highest of last 50: 46.0\n",
      "Episode: 100 -- Average score: 23.72 -- Highest of last 50: 73.0\n",
      "Episode: 150 -- Average score: 26.78 -- Highest of last 50: 57.0\n",
      "Episode: 200 -- Average score: 31.54 -- Highest of last 50: 83.0\n",
      "Episode: 250 -- Average score: 84.38 -- Highest of last 50: 215.0\n",
      "Episode: 300 -- Average score: 155.64 -- Highest of last 50: 263.0\n",
      "Episode: 350 -- Average score: 187.88 -- Highest of last 50: 347.0\n",
      "Episode: 400 -- Average score: 216.82 -- Highest of last 50: 500.0\n",
      "Episode: 450 -- Average score: 406.04 -- Highest of last 50: 500.0\n",
      "Episode: 500 -- Average score: 225.24 -- Highest of last 50: 500.0\n",
      "Episode: 550 -- Average score: 253.38 -- Highest of last 50: 500.0\n",
      "Episode: 600 -- Average score: 226.48 -- Highest of last 50: 500.0\n"
     ]
    },
    {
     "data": {
      "image/png": "[encoded data removed]",
      "text/plain": [
       "<Figure size 640x480 with 1 Axes>"
      ]
     },
     "metadata": {},
     "output_type": "display_data"
    }
   ],
   "source": [
    "t_agent = execute(min_episodes=500, e_train= False, update_freq=50, agent= agent)"
   ]
  },
  {
   "cell_type": "code",
   "execution_count": 32,
   "metadata": {},
   "outputs": [],
   "source": [
    "env.close()\n",
    "env = gym.make(\"CartPole-v1\", render_mode=\"human\")"
   ]
  },
  {
   "cell_type": "code",
   "execution_count": 33,
   "metadata": {},
   "outputs": [],
   "source": [
    "#play the game once\n",
    "def play(agent):\n",
    "   obs, _ = env.reset()\n",
    "   obs = torch.tensor(obs, dtype=torch.float, device=agent.net.device)\n",
    "   score = 0\n",
    "   terminated = False\n",
    "   truncated = False\n",
    "   while not terminated and not truncated: \n",
    "      action = agent.pick_action(obs)\n",
    "      obs_, reward, terminated, truncated, _ = env.step(action)\n",
    "      obs = torch.tensor(obs_, dtype=torch.float, device=agent.net.device)\n",
    "      display.clear_output(wait=True)\n",
    "      score += 1\n",
    "      print(\"Score: \" + str(score))\n",
    "      #sleep(0.1)\n",
    "   return score\n",
    "   "
   ]
  },
  {
   "cell_type": "code",
   "execution_count": 34,
   "metadata": {},
   "outputs": [
    {
     "name": "stdout",
     "output_type": "stream",
     "text": [
      "Score: 500\n"
     ]
    },
    {
     "data": {
      "text/plain": [
       "500"
      ]
     },
     "execution_count": 34,
     "metadata": {},
     "output_type": "execute_result"
    }
   ],
   "source": [
    "play(t_agent)\n",
    "#env.close()  "
   ]
  }
 ],
 "metadata": {
  "kernelspec": {
   "display_name": "Python 3",
   "language": "python",
   "name": "python3"
  },
  "language_info": {
   "codemirror_mode": {
    "name": "ipython",
    "version": 3
   },
   "file_extension": ".py",
   "mimetype": "text/x-python",
   "name": "python",
   "nbconvert_exporter": "python",
   "pygments_lexer": "ipython3",
   "version": "3.11.3"
  },
  "orig_nbformat": 4
 },
 "nbformat": 4,
 "nbformat_minor": 2
}
