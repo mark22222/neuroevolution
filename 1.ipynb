{
 "cells": [
  {
   "attachments": {},
   "cell_type": "markdown",
   "metadata": {},
   "source": [
    "Mark Nagengast Porro, Tim Schwabe"
   ]
  },
  {
   "attachments": {},
   "cell_type": "markdown",
   "metadata": {},
   "source": [
    "Aufgabe 1"
   ]
  },
  {
   "cell_type": "code",
   "execution_count": 1,
   "metadata": {},
   "outputs": [],
   "source": [
    "import numpy as np\n",
    "mu, sigma = 0, 0.1\n",
    "list10 = np.random.normal(mu,sigma,10)\n",
    "list100 = np.random.normal(mu,sigma,100)\n",
    "list1000 = np.random.normal(mu,sigma,1000)"
   ]
  },
  {
   "cell_type": "code",
   "execution_count": 2,
   "metadata": {},
   "outputs": [
    {
     "data": {
      "image/png": "[encoded data removed]",
      "text/plain": [
       "<Figure size 720x288 with 3 Axes>"
      ]
     },
     "metadata": {
      "needs_background": "light"
     },
     "output_type": "display_data"
    }
   ],
   "source": [
    "import math\n",
    "import matplotlib.pyplot as plt\n",
    "fig, (ax1, ax2, ax3) = plt.subplots(1, 3, figsize=(10,4))\n",
    "\n",
    "count, bins, ignored = ax1.hist(list10, math.ceil(math.sqrt(10)), density=True)\n",
    "ax1.plot(bins, 1/(sigma * np.sqrt(2 * np.pi)) * np.exp( - (bins - mu)**2 / (2 * sigma**2) ))\n",
    "\n",
    "count, bins, ignored = ax2.hist(list100, math.ceil(math.sqrt(100)), density=True)\n",
    "ax2.plot(bins, 1/(sigma * np.sqrt(2 * np.pi)) * np.exp( - (bins - mu)**2 / (2 * sigma**2) ))\n",
    "\n",
    "count, bins, ignored = ax3.hist(list1000, math.ceil(math.sqrt(1000)), density=True)\n",
    "ax3.plot(bins, 1/(sigma * np.sqrt(2 * np.pi)) * np.exp( - (bins - mu)**2 / (2 * sigma**2) ))\n",
    "\n",
    "plt.show()"
   ]
  },
  {
   "attachments": {},
   "cell_type": "markdown",
   "metadata": {},
   "source": [
    "Aufgabe 2 + 3"
   ]
  },
  {
   "cell_type": "code",
   "execution_count": 3,
   "metadata": {},
   "outputs": [
    {
     "name": "stdout",
     "output_type": "stream",
     "text": [
      "[ 26.   4.  35. 124.  30.  21.  30.  42.  60.  10.  15.  62.  73. 205.\n",
      "   4.  35.  32.  41.  60. 121.  16.   2.  26.  16.  15.  19.  88.  10.\n",
      "  98.   4.  39.  21.  34.   7.  30.   2.   3.  70.  53.   0.  60.  45.\n",
      "  15.  67.  55.  24.   3.   5.  88.   7.  57.  71.  21.  68.  35.  52.\n",
      " 130.   1.  10.   3.  25.  25.   6.   0.  87.   0.  30.  45.  53.  47.\n",
      "  30.  49.  56.  66.   9.  12. 188.  10.  49.  26.   1.  10. 140.  57.\n",
      "   9.   9.  14.  76.  61.  10.   9.  12. 114.  46.   3.  76. 130.  30.\n",
      "   9.  31.]\n"
     ]
    }
   ],
   "source": [
    "counters = np.empty(100)\n",
    "for iter in range(100):\n",
    "    randList5 = list(np.random.randint(0,2,5))\n",
    "    counter = 0\n",
    "    while 0 in randList5:\n",
    "        for i in range(len(randList5)):\n",
    "            if np.random.uniform(0,1) <= 0.1:\n",
    "                randList5[i] ^= 1\n",
    "                counter += 1\n",
    "    counters[iter] = counter\n",
    "print(counters)\n"
   ]
  },
  {
   "cell_type": "code",
   "execution_count": 4,
   "metadata": {},
   "outputs": [
    {
     "data": {
      "image/png": "[encoded data removed]",
      "text/plain": [
       "<Figure size 432x288 with 1 Axes>"
      ]
     },
     "metadata": {
      "needs_background": "light"
     },
     "output_type": "display_data"
    }
   ],
   "source": [
    "plt.hist(counters, bins=100)\n",
    "plt.show()\n"
   ]
  },
  {
   "attachments": {},
   "cell_type": "markdown",
   "metadata": {},
   "source": [
    "Aufgabe 4"
   ]
  },
  {
   "cell_type": "code",
   "execution_count": 5,
   "metadata": {},
   "outputs": [],
   "source": [
    "from pylab import meshgrid\n",
    "import pylab\n",
    "from matplotlib import colors\n",
    "import time\n",
    "from IPython import display"
   ]
  },
  {
   "cell_type": "code",
   "execution_count": 6,
   "metadata": {},
   "outputs": [],
   "source": [
    "xMin, xMax, yMin, yMax, populationSize = -2,2,-1,3,20"
   ]
  },
  {
   "cell_type": "code",
   "execution_count": 7,
   "metadata": {},
   "outputs": [],
   "source": [
    "#Rosenbrock Funktion\n",
    "\n",
    "a, b = 1, 100\n",
    "def func(x,y):\n",
    " return (a-x)**2+b*(y-x**2)**2\n"
   ]
  },
  {
   "cell_type": "code",
   "execution_count": 8,
   "metadata": {},
   "outputs": [],
   "source": [
    "#Mutation function with 30% chance to mutate\n",
    "#Mutation without consideration of restrictions medium normal distribution\n",
    "\n",
    "xSigma = (xMax - xMin) / 100.0\n",
    "\n",
    "def mutation(x):\n",
    "   for i in range(len(x)):\n",
    "       if np.random.uniform(0,1) <= 0.3:  #30% chance to mutate\n",
    "         x[i] += np.random.normal(0,xSigma,1) \n",
    "   return x"
   ]
  },
  {
   "cell_type": "code",
   "execution_count": 9,
   "metadata": {},
   "outputs": [],
   "source": [
    "#recombination function\n",
    "#discrete recombination\n",
    "def recombination(x,y):\n",
    "   return x,np.append(y[populationSize//2:], y[:populationSize//2])"
   ]
  },
  {
   "cell_type": "code",
   "execution_count": 10,
   "metadata": {},
   "outputs": [],
   "source": [
    "#checks if the euclidean distance among all points is small enough\n",
    "def check(x,y):\n",
    "   for i in range(len(x)-1):\n",
    "      for j in range(i,len(x)):\n",
    "         temp = np.array((x[i]-x[j],y[i],y[j]))\n",
    "         dist = np.sqrt(np.dot(temp.T, temp))\n",
    "         if dist > 0.4:\n",
    "            return False\n",
    "   return True\n",
    "\n",
    "def check2(x,y):\n",
    "   values = np.array(func(x,y))\n",
    "   for i in values:\n",
    "      for j in values:\n",
    "         if abs(i-j) > 0.1:\n",
    "            return False\n",
    "   return True"
   ]
  },
  {
   "cell_type": "code",
   "execution_count": 11,
   "metadata": {},
   "outputs": [
    {
     "data": {
      "image/png": "[encoded data removed]",
      "text/plain": [
       "<Figure size 576x576 with 2 Axes>"
      ]
     },
     "metadata": {
      "needs_background": "light"
     },
     "output_type": "display_data"
    }
   ],
   "source": [
    "fig,ax = plt.subplots(1,1,figsize=(8,8))\n",
    "x = np.linspace(xMin,xMax,80)\n",
    "y = np.linspace(yMin,yMax,80)\n",
    "X,Y = meshgrid(x, y)\n",
    "Z = func(X, Y) \n",
    "\n",
    "cset = ax.contourf(X, Y, Z, norm=colors.LogNorm())\n",
    "plt.colorbar(cset)\n",
    "\n",
    "popX = np.random.uniform(low=xMin, high=xMax, size=100)\n",
    "popY = np.random.uniform(low=yMin, high=yMax, size=100)\n",
    "funcVals = np.array(func(popX, popY))"
   ]
  },
  {
   "cell_type": "code",
   "execution_count": 12,
   "metadata": {},
   "outputs": [
    {
     "data": {
      "image/png": "[encoded data removed]",
      "text/plain": [
       "<Figure size 576x576 with 2 Axes>"
      ]
     },
     "metadata": {},
     "output_type": "display_data"
    }
   ],
   "source": [
    "counter = 0\n",
    "while True:\n",
    "\n",
    "   #get the best n of the population (elite)\n",
    "   idx = np.argpartition(funcVals, populationSize)\n",
    "   filter_indices = idx[:populationSize]\n",
    "   bestPopX = popX[filter_indices] \n",
    "   bestPopY = popY[filter_indices]\n",
    "\n",
    "   #plot and sleep\n",
    "   ax.clear()\n",
    "   ax.contourf(X, Y, Z, norm=colors.LogNorm())\n",
    "   ax.plot( bestPopX, bestPopY, 'o', color='black')\n",
    "   \n",
    "   display.clear_output(wait=True)\n",
    "   display.display(fig)\n",
    "   time.sleep(1)\n",
    "\n",
    "   #Check abort condition\n",
    "   if(check2(bestPopX,bestPopY)):\n",
    "      break\n",
    "   \n",
    "   #recombine\n",
    "   popX = np.append(bestPopX,(np.array(recombination(bestPopX,bestPopY)[0])))\n",
    "   popY = np.append(bestPopY,(np.array(recombination(bestPopX,bestPopY)[1])))\n",
    "   \n",
    "   #mutate\n",
    "   popX = mutation(popX)\n",
    "   popY = mutation(popY)\n",
    "\n",
    "   #calculate new values\n",
    "   funcVals = np.array(func(popX, popY))\n",
    "   counter += 1\n",
    "\n",
    "display.clear_output(wait=True)  "
   ]
  },
  {
   "cell_type": "code",
   "execution_count": 14,
   "metadata": {},
   "outputs": [
    {
     "name": "stdout",
     "output_type": "stream",
     "text": [
      "Years: 19\n",
      "Best Value: 0.14328246316503307\n"
     ]
    }
   ],
   "source": [
    "#Stats\n",
    "print('Years: ',end=\"\")\n",
    "print(counter)\n",
    "print('Best Value: ',end=\"\")\n",
    "print(funcVals[0])"
   ]
  }
 ],
 "metadata": {
  "kernelspec": {
   "display_name": "Python 3",
   "language": "python",
   "name": "python3"
  },
  "language_info": {
   "codemirror_mode": {
    "name": "ipython",
    "version": 3
   },
   "file_extension": ".py",
   "mimetype": "text/x-python",
   "name": "python",
   "nbconvert_exporter": "python",
   "pygments_lexer": "ipython3",
   "version": "3.11.3"
  },
  "orig_nbformat": 4,
  "vscode": {
   "interpreter": {
    "hash": "ce47a318fee2057433e7cf622848393c7f12842a0d594f8a28bf4259995c0d2a"
   }
  }
 },
 "nbformat": 4,
 "nbformat_minor": 2
}
