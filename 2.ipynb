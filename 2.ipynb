{
 "cells": [
  {
   "attachments": {},
   "cell_type": "markdown",
   "metadata": {},
   "source": [
    "Abgabe 2 Mark Nagengast Porro, Tim Schwabe"
   ]
  },
  {
   "attachments": {},
   "cell_type": "markdown",
   "metadata": {},
   "source": [
    "Aufgabe 1"
   ]
  },
  {
   "cell_type": "code",
   "execution_count": 272,
   "metadata": {},
   "outputs": [],
   "source": [
    "import networkx as nx\n",
    "import numpy as np\n",
    "import matplotlib as plt\n",
    "\n",
    "np.random.seed(10)"
   ]
  },
  {
   "cell_type": "code",
   "execution_count": 273,
   "metadata": {},
   "outputs": [],
   "source": [
    "alpha = 0.1\n",
    "pop_size = 20"
   ]
  },
  {
   "cell_type": "code",
   "execution_count": 274,
   "metadata": {},
   "outputs": [],
   "source": [
    "def createGraph(n_nodes, n_edges):\n",
    "    G = nx.Graph()\n",
    "    G.add_nodes_from([i for i in range(0,n_nodes)])\n",
    "\n",
    "    for n in range(n_edges):\n",
    "        a = np.random.randint(n_nodes)\n",
    "        while True:\n",
    "            b = np.random.randint(n_nodes)\n",
    "            if a != b:\n",
    "                break\n",
    "        G.add_edge(a,b)\n",
    "    \n",
    "    return G\n",
    "\n",
    "\n",
    "G = createGraph(10,20)\n"
   ]
  },
  {
   "cell_type": "code",
   "execution_count": 275,
   "metadata": {},
   "outputs": [
    {
     "data": {
      "image/png": "[encoded data removed]",
      "text/plain": [
       "<Figure size 432x288 with 1 Axes>"
      ]
     },
     "metadata": {},
     "output_type": "display_data"
    }
   ],
   "source": [
    "nx.draw(G, with_labels = True)"
   ]
  },
  {
   "attachments": {},
   "cell_type": "markdown",
   "metadata": {},
   "source": [
    "Aufgabe 2"
   ]
  },
  {
   "cell_type": "code",
   "execution_count": 276,
   "metadata": {},
   "outputs": [],
   "source": [
    "def init_population(G):\n",
    "    dic = dict()\n",
    "    for i in range(0, pop_size):\n",
    "        a = np.random.randint(G.number_of_nodes())\n",
    "        while True:\n",
    "            b = np.random.randint(G.number_of_nodes())\n",
    "            if a != b:\n",
    "                break\n",
    "        dic.update([((a,b),0)])\n",
    "    return dic"
   ]
  },
  {
   "cell_type": "code",
   "execution_count": 277,
   "metadata": {},
   "outputs": [],
   "source": [
    "def fitness(population, G):\n",
    "    fitness = 0\n",
    "\n",
    "    for key in population:\n",
    "        fitness = 0\n",
    "        for i in range(len(key)-1):\n",
    "            for j in range(1,len(key)):\n",
    "                if G.has_edge(key[i], key[j]):\n",
    "                    fitness += 1\n",
    "                else: \n",
    "                    fitness -= alpha*len(key)\n",
    "        population.update([(key, fitness)])"
   ]
  },
  {
   "attachments": {},
   "cell_type": "markdown",
   "metadata": {},
   "source": [
    "Aufgabe 3"
   ]
  },
  {
   "cell_type": "code",
   "execution_count": 278,
   "metadata": {},
   "outputs": [
    {
     "data": {
      "text/plain": [
       "4"
      ]
     },
     "execution_count": 278,
     "metadata": {},
     "output_type": "execute_result"
    }
   ],
   "source": [
    "max( len(c) for c in nx.find_cliques(G))"
   ]
  },
  {
   "cell_type": "code",
   "execution_count": 279,
   "metadata": {},
   "outputs": [
    {
     "data": {
      "text/plain": [
       "{(6, 9): 1,\n",
       " (1, 8): 1,\n",
       " (9, 1): 1,\n",
       " (2, 8): -0.2,\n",
       " (9, 5): -0.2,\n",
       " (0, 2): 1,\n",
       " (7, 3): -0.2,\n",
       " (0, 4): 1,\n",
       " (2, 0): 1,\n",
       " (3, 1): -0.2,\n",
       " (2, 5): -0.2,\n",
       " (9, 0): 1,\n",
       " (1, 0): 1,\n",
       " (1, 9): 1,\n",
       " (0, 9): 1,\n",
       " (2, 1): -0.2,\n",
       " (0, 5): -0.2,\n",
       " (4, 6): -0.2}"
      ]
     },
     "execution_count": 279,
     "metadata": {},
     "output_type": "execute_result"
    }
   ],
   "source": [
    "population = init_population(G)\n",
    "#print(population)\n",
    "fitness(population,G)\n",
    "population"
   ]
  },
  {
   "cell_type": "code",
   "execution_count": 280,
   "metadata": {},
   "outputs": [
    {
     "data": {
      "text/plain": [
       "{(6, 9): 1,\n",
       " (1, 8): 1,\n",
       " (9, 1): 1,\n",
       " (0, 2): 1,\n",
       " (0, 4): 1,\n",
       " (2, 0): 1,\n",
       " (9, 0): 1,\n",
       " (1, 0): 1,\n",
       " (1, 9): 1,\n",
       " (0, 9): 1}"
      ]
     },
     "execution_count": 280,
     "metadata": {},
     "output_type": "execute_result"
    }
   ],
   "source": [
    "# Selektion\n",
    "import operator\n",
    "population = dict(sorted(population.items(),key=operator.itemgetter(1),reverse=True)[:10])\n",
    "population"
   ]
  },
  {
   "cell_type": "code",
   "execution_count": 281,
   "metadata": {},
   "outputs": [
    {
     "name": "stdout",
     "output_type": "stream",
     "text": [
      "31\n"
     ]
    }
   ],
   "source": [
    "# Rekombination\n",
    "\n",
    "def recombination(pop):\n",
    "    new_pop = dict()\n",
    "    for i in range(len(pop)-1):\n",
    "        for j in range(i,len(pop)):\n",
    "            appended = tuple(set(list(pop)[i] + list(pop)[j]))\n",
    "            appended = tuple(set(appended))\n",
    "            while len(appended) > max(len(list(pop)[i]), len(list(pop)[j])):            \n",
    "                random_idx = np.random.choice(len(appended))\n",
    "                appended = list(appended)\n",
    "                del appended[random_idx]\n",
    "                new_pop.update([(tuple(appended), 0)])\n",
    "    return new_pop\n",
    "population = recombination(population)\n",
    "population\n",
    "print(len(population))\n",
    "\n"
   ]
  }
 ],
 "metadata": {
  "kernelspec": {
   "display_name": "Python 3",
   "language": "python",
   "name": "python3"
  },
  "language_info": {
   "codemirror_mode": {
    "name": "ipython",
    "version": 3
   },
   "file_extension": ".py",
   "mimetype": "text/x-python",
   "name": "python",
   "nbconvert_exporter": "python",
   "pygments_lexer": "ipython3",
   "version": "3.10.4"
  },
  "orig_nbformat": 4
 },
 "nbformat": 4,
 "nbformat_minor": 2
}
