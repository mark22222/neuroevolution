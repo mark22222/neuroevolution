{
 "cells": [
  {
   "attachments": {},
   "cell_type": "markdown",
   "metadata": {},
   "source": [
    "Abgabe 2 Mark Nagengast Porro, Tim Schwabe"
   ]
  },
  {
   "attachments": {},
   "cell_type": "markdown",
   "metadata": {},
   "source": [
    "Aufgabe 1"
   ]
  },
  {
   "cell_type": "code",
   "execution_count": null,
   "metadata": {},
   "outputs": [],
   "source": [
    "import networkx as nx\n",
    "import numpy as np\n",
    "import matplotlib as plt\n",
    "import operator"
   ]
  },
  {
   "cell_type": "code",
   "execution_count": null,
   "metadata": {},
   "outputs": [],
   "source": [
    "alpha = 1"
   ]
  },
  {
   "cell_type": "code",
   "execution_count": null,
   "metadata": {},
   "outputs": [],
   "source": [
    "def createGraph(n_nodes, n_edges):\n",
    "    G = nx.Graph()\n",
    "    G.add_nodes_from([i for i in range(0,n_nodes)])\n",
    "\n",
    "    for n in range(n_edges):\n",
    "        a = np.random.randint(n_nodes)\n",
    "        while True:\n",
    "            b = np.random.randint(n_nodes)\n",
    "            if a != b:\n",
    "                break\n",
    "        G.add_edge(a,b)\n",
    "    \n",
    "    return G\n",
    "\n",
    "\n",
    "G = createGraph(50,200)\n"
   ]
  },
  {
   "cell_type": "code",
   "execution_count": null,
   "metadata": {},
   "outputs": [],
   "source": [
    "nx.draw(G, with_labels = True)"
   ]
  },
  {
   "attachments": {},
   "cell_type": "markdown",
   "metadata": {},
   "source": [
    "Aufgabe 2"
   ]
  },
  {
   "cell_type": "code",
   "execution_count": null,
   "metadata": {},
   "outputs": [],
   "source": [
    "#Init population \n",
    "def init_population(G):\n",
    "    nodes = list(G.nodes())\n",
    "    np.random.shuffle(nodes)\n",
    "    dic = dict()\n",
    "    for i in nodes:\n",
    "        dic.update([((len(G.nodes())-i,),0)])\n",
    "    \n",
    "    return dic"
   ]
  },
  {
   "cell_type": "code",
   "execution_count": null,
   "metadata": {},
   "outputs": [],
   "source": [
    "#Fitness with penalty\n",
    "def fitness(population, G):\n",
    "    fitness = 0\n",
    "\n",
    "    for key in population:\n",
    "        fitness = 0\n",
    "        for i in range(len(key)-1):\n",
    "            for j in range(i+1,len(key)):\n",
    "                if G.has_edge(key[i], key[j]):\n",
    "                    fitness += 1\n",
    "                else: \n",
    "                    fitness -= alpha*len(key)\n",
    "                    \n",
    "        population.update([(key, fitness)])\n"
   ]
  },
  {
   "attachments": {},
   "cell_type": "markdown",
   "metadata": {},
   "source": [
    "Aufgabe 3"
   ]
  },
  {
   "cell_type": "code",
   "execution_count": null,
   "metadata": {},
   "outputs": [],
   "source": [
    "# Selektion\n",
    "\n",
    "def selection(population,G):\n",
    "    return dict(sorted(population.items(),key=operator.itemgetter(1),reverse=True)[:(len(G.nodes())*4)])\n"
   ]
  },
  {
   "cell_type": "code",
   "execution_count": null,
   "metadata": {},
   "outputs": [],
   "source": [
    "# Rekombination\n",
    "def recombination(pop):\n",
    "    new_pop = dict()\n",
    "    for i in range(len(pop)-1):\n",
    "        for j in range(i+1,len(pop)):\n",
    "            appended = list(set(list(pop)[i] + list(pop)[j]))\n",
    "            while len(appended) > max(len(list(pop)[i]), len(list(pop)[j])) + 1:\n",
    "                random_idx = np.random.choice(len(appended))\n",
    "                del appended[random_idx]\n",
    "            appended = tuple(appended)\n",
    "            new_pop.update([(appended,0)])\n",
    "    return new_pop"
   ]
  },
  {
   "cell_type": "code",
   "execution_count": null,
   "metadata": {},
   "outputs": [],
   "source": [
    "#Mutation:\n",
    "def mutation(dic,G):\n",
    "    newDic = dict()\n",
    "    for key in dic:\n",
    "        newKey = list(key)\n",
    "        #removing nodes\n",
    "        for node in newKey:\n",
    "            node = np.round(node + np.random.normal(0,2,1))\n",
    "            if node < 0:\n",
    "                node = 0\n",
    "            if node > len(G.nodes()):\n",
    "                node = len(G.nodes())\n",
    "        newDic.update([(tuple(set(newKey)),0)])\n",
    "    \n",
    "    return newDic"
   ]
  },
  {
   "cell_type": "code",
   "execution_count": null,
   "metadata": {},
   "outputs": [],
   "source": [
    "population = init_population(G)\n",
    "repeat_c = 0\n",
    "best_value = -100\n",
    "while True:\n",
    "    fitness(population,G)\n",
    "    population = selection(population,G)\n",
    "    tmp = population.get(list(population)[0])\n",
    "    if(tmp == best_value):\n",
    "        repeat_c += 1\n",
    "    else:\n",
    "        best_value = tmp\n",
    "        repeat_c = 0\n",
    "\n",
    "    if repeat_c > 5:\n",
    "        break\n",
    "    childs =recombination(population)\n",
    "    childs = mutation(childs,G)\n",
    "    population = childs | population\n",
    "\n",
    "    \n",
    "\n",
    "print(population)\n",
    "print(len(list(population)[0]) == max(len(c) for c in nx.find_cliques(G)))\n",
    "print(max(len(c) for c in nx.find_cliques(G)))"
   ]
  },
  {
   "attachments": {},
   "cell_type": "markdown",
   "metadata": {},
   "source": [
    "Aufgabe 4"
   ]
  },
  {
   "cell_type": "code",
   "execution_count": null,
   "metadata": {},
   "outputs": [],
   "source": [
    "color_map = []\n",
    "for node in G:\n",
    "    if node in list(population.keys())[0]:\n",
    "        color_map.append('green')\n",
    "    else: \n",
    "        color_map.append('blue')      \n",
    "nx.draw(G, node_color=color_map, with_labels=True)"
   ]
  },
  {
   "cell_type": "code",
   "execution_count": null,
   "metadata": {},
   "outputs": [],
   "source": [
    "counter = 0\n",
    "for i in range(100):\n",
    "    n_nodes = np.random.randint(10,50)\n",
    "    n_edges = np.random.randint(n_nodes,500)\n",
    "    G = createGraph(n_nodes,n_edges)\n",
    "    population = init_population(G)\n",
    "    repeat_c = 0\n",
    "    best_value = -100\n",
    "    while True:\n",
    "        fitness(population,G)\n",
    "        population = selection(population,G)\n",
    "        tmp = population.get(list(population)[0])\n",
    "        if(tmp == best_value):\n",
    "            repeat_c += 1\n",
    "        else:\n",
    "            best_value = tmp\n",
    "            repeat_c = 0\n",
    "\n",
    "        if repeat_c > 5:\n",
    "            break\n",
    "\n",
    "\n",
    "        childs = mutation(recombination(population),G)\n",
    "        population = population | childs\n",
    "\n",
    "        \n",
    "\n",
    "    print(population)\n",
    "\n",
    "    if not len(list(population)[0]) == max(len(c) for c in nx.find_cliques(G)):\n",
    "        counter += 1\n",
    "\n",
    "    print(max(len(c) for c in nx.find_cliques(G)))\n",
    "\n",
    "print((100-counter)/100) "
   ]
  }
 ],
 "metadata": {
  "kernelspec": {
   "display_name": "Python 3",
   "language": "python",
   "name": "python3"
  },
  "language_info": {
   "codemirror_mode": {
    "name": "ipython",
    "version": 3
   },
   "file_extension": ".py",
   "mimetype": "text/x-python",
   "name": "python",
   "nbconvert_exporter": "python",
   "pygments_lexer": "ipython3",
   "version": "3.11.3"
  },
  "orig_nbformat": 4
 },
 "nbformat": 4,
 "nbformat_minor": 2
}
