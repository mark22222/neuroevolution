{
 "cells": [
  {
   "attachments": {},
   "cell_type": "markdown",
   "metadata": {},
   "source": [
    "# Abgabe 3 Mark Nagengast Porro, Tim Schwabe"
   ]
  },
  {
   "cell_type": "code",
   "execution_count": 56,
   "metadata": {},
   "outputs": [],
   "source": [
    "import numpy as np"
   ]
  },
  {
   "attachments": {},
   "cell_type": "markdown",
   "metadata": {},
   "source": [
    "## Aufgabe 1"
   ]
  },
  {
   "cell_type": "code",
   "execution_count": 57,
   "metadata": {},
   "outputs": [],
   "source": [
    "def RELU(x):\n",
    "    return max(0,x)"
   ]
  },
  {
   "cell_type": "code",
   "execution_count": 58,
   "metadata": {},
   "outputs": [],
   "source": [
    "def sigmoid(x):\n",
    "    return 1/(1+(np.math.e)**(-x))"
   ]
  },
  {
   "cell_type": "code",
   "execution_count": 59,
   "metadata": {},
   "outputs": [
    {
     "name": "stdout",
     "output_type": "stream",
     "text": [
      "[[1 1]\n",
      " [0 0]\n",
      " [1 0]\n",
      " [1 1]\n",
      " [0 1]\n",
      " [1 1]\n",
      " [0 1]\n",
      " [1 0]\n",
      " [1 1]\n",
      " [1 0]]\n",
      "[[0]\n",
      " [0]\n",
      " [1]\n",
      " [0]\n",
      " [1]\n",
      " [0]\n",
      " [1]\n",
      " [1]\n",
      " [0]\n",
      " [1]]\n"
     ]
    }
   ],
   "source": [
    "def createTrainingData(batch_size):\n",
    "\n",
    "    data = np.array([[0,0],\n",
    "                     [0,1],\n",
    "                     [1,0],\n",
    "                     [1,1]])\n",
    "    truth = np.array([[0],[1],[1],[0]])\n",
    "    \n",
    "    training_data = []\n",
    "    target = []\n",
    "    while(batch_size > 0):\n",
    "        index = np.random.randint(4)\n",
    "        training_data.append(data[index])\n",
    "        target.append(truth[index])\n",
    "        batch_size -= 1\n",
    "    return np.array(training_data), np.array(target)\n",
    "\n",
    "train, target = createTrainingData(10)\n",
    "print(train)\n",
    "print(target)"
   ]
  },
  {
   "attachments": {},
   "cell_type": "markdown",
   "metadata": {},
   "source": [
    "## Aufgabe 2"
   ]
  },
  {
   "cell_type": "code",
   "execution_count": 60,
   "metadata": {},
   "outputs": [
    {
     "name": "stdout",
     "output_type": "stream",
     "text": [
      "[array([[0.24084789, 0.44266231, 0.19809295, 0.43411779],\n",
      "       [0.58630744, 0.90608086, 0.34061683, 0.25462053]]), array([[0.44119897, 0.00208509, 0.35320315, 0.20267821]])]\n",
      "[1 1]\n",
      "[0.82715533 1.34874317 0.53870979 0.68873832]\n",
      "[0.66765957]\n",
      "[0 0]\n",
      "[0. 0. 0. 0.]\n",
      "[0.5]\n",
      "[1 0]\n",
      "[0.24084789 0.44266231 0.19809295 0.43411779]\n",
      "[0.56589893]\n",
      "[1 1]\n",
      "[0.82715533 1.34874317 0.53870979 0.68873832]\n",
      "[0.66765957]\n",
      "[0 1]\n",
      "[0.58630744 0.90608086 0.34061683 0.25462053]\n",
      "[0.60646583]\n",
      "[1 1]\n",
      "[0.82715533 1.34874317 0.53870979 0.68873832]\n",
      "[0.66765957]\n",
      "[0 1]\n",
      "[0.58630744 0.90608086 0.34061683 0.25462053]\n",
      "[0.60646583]\n",
      "[1 0]\n",
      "[0.24084789 0.44266231 0.19809295 0.43411779]\n",
      "[0.56589893]\n",
      "[1 1]\n",
      "[0.82715533 1.34874317 0.53870979 0.68873832]\n",
      "[0.66765957]\n",
      "[1 0]\n",
      "[0.24084789 0.44266231 0.19809295 0.43411779]\n",
      "[0.56589893]\n"
     ]
    }
   ],
   "source": [
    "class NN():\n",
    "\n",
    "    def __init__(self, training_data, target_data,hidden_layers):\n",
    "\n",
    "        self.training_data = training_data\n",
    "        self.target_data = target_data\n",
    "\n",
    "        self.weights = [np.random.uniform(size=(2,4))]\n",
    "        while(hidden_layers > 1):\n",
    "            self.weights.append(np.random.uniform(size=(4,16)))\n",
    "            hidden_layers -=1\n",
    "        self.weights.append(np.random.uniform(size=(1,4)))\n",
    "        print(self.weights)\n",
    "\n",
    "\n",
    "    def ReLU(self,x):\n",
    "        return x * (x > 0) \n",
    "    \n",
    "    def sigmoid(self, x):\n",
    "        return 1/(1+(np.math.e)**(-np.array(x)))\n",
    "    \n",
    "    def forward(self, x):\n",
    "        for i in range(len(self.weights)-1):\n",
    "            product = np.dot(x, self.weights[i])\n",
    "            print(product) # shape (1,4)\n",
    "            x = self.ReLU(np.array(product))\n",
    "        return self.sigmoid(np.dot(self.weights[1], x))\n",
    "\n",
    "    def training(self):\n",
    "\n",
    "        for i in range(len(self.training_data)):\n",
    "            print(self.training_data[i])\n",
    "            print(self.forward(self.training_data[i]))\n",
    "        \n",
    "\n",
    "test = NN(train,target,1)\n",
    "test.training()"
   ]
  }
 ],
 "metadata": {
  "kernelspec": {
   "display_name": "Python 3",
   "language": "python",
   "name": "python3"
  },
  "language_info": {
   "codemirror_mode": {
    "name": "ipython",
    "version": 3
   },
   "file_extension": ".py",
   "mimetype": "text/x-python",
   "name": "python",
   "nbconvert_exporter": "python",
   "pygments_lexer": "ipython3",
   "version": "3.10.4"
  },
  "orig_nbformat": 4
 },
 "nbformat": 4,
 "nbformat_minor": 2
}
