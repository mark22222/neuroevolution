{
 "cells": [
  {
   "attachments": {},
   "cell_type": "markdown",
   "metadata": {},
   "source": [
    "# Abgabe 3 Mark Nagengast Porro, Tim Schwabe"
   ]
  },
  {
   "cell_type": "code",
   "execution_count": 21,
   "metadata": {},
   "outputs": [],
   "source": [
    "import numpy as np"
   ]
  },
  {
   "attachments": {},
   "cell_type": "markdown",
   "metadata": {},
   "source": [
    "## Aufgabe 1"
   ]
  },
  {
   "cell_type": "code",
   "execution_count": 22,
   "metadata": {},
   "outputs": [],
   "source": [
    "def RELU(x):\n",
    "    return max(0,x)"
   ]
  },
  {
   "cell_type": "code",
   "execution_count": 23,
   "metadata": {},
   "outputs": [],
   "source": [
    "def sigmoid(x):\n",
    "    return 1/(1+(np.math.e)**(-x))"
   ]
  },
  {
   "cell_type": "code",
   "execution_count": 24,
   "metadata": {},
   "outputs": [
    {
     "name": "stdout",
     "output_type": "stream",
     "text": [
      "[[1 0]\n",
      " [0 0]\n",
      " [0 1]\n",
      " [1 1]\n",
      " [1 1]\n",
      " [0 0]\n",
      " [0 1]\n",
      " [1 1]\n",
      " [0 0]\n",
      " [0 1]]\n",
      "[[1]\n",
      " [0]\n",
      " [1]\n",
      " [0]\n",
      " [0]\n",
      " [0]\n",
      " [1]\n",
      " [0]\n",
      " [0]\n",
      " [1]]\n"
     ]
    }
   ],
   "source": [
    "def createTrainingData(batch_size):\n",
    "\n",
    "    data = np.array([[0,0],\n",
    "                     [0,1],\n",
    "                     [1,0],\n",
    "                     [1,1]])\n",
    "    truth = np.array([[0],[1],[1],[0]])\n",
    "    \n",
    "    training_data = []\n",
    "    target = []\n",
    "    while(batch_size > 0):\n",
    "        index = np.random.randint(4)\n",
    "        training_data.append(data[index])\n",
    "        target.append(truth[index])\n",
    "        batch_size -= 1\n",
    "    return np.array(training_data), np.array(target)\n",
    "\n",
    "train, target = createTrainingData(10)\n",
    "print(train)\n",
    "print(target)"
   ]
  },
  {
   "attachments": {},
   "cell_type": "markdown",
   "metadata": {},
   "source": [
    "## Aufgabe 2"
   ]
  },
  {
   "cell_type": "code",
   "execution_count": 25,
   "metadata": {},
   "outputs": [
    {
     "name": "stdout",
     "output_type": "stream",
     "text": [
      "[array([[0.38595531, 0.74759057, 0.27099038, 0.98749689],\n",
      "       [0.72194527, 0.24188014, 0.3167798 , 0.02700763]]), array([[0.29275879],\n",
      "       [0.14259706],\n",
      "       [0.16243149],\n",
      "       [0.38125868]])]\n",
      "[1 0]\n",
      "[0.38595531 0.74759057 0.27099038 0.98749689]\n"
     ]
    },
    {
     "ename": "ValueError",
     "evalue": "setting an array element with a sequence. The requested array has an inhomogeneous shape after 1 dimensions. The detected shape was (2,) + inhomogeneous part.",
     "output_type": "error",
     "traceback": [
      "\u001b[1;31m---------------------------------------------------------------------------\u001b[0m",
      "\u001b[1;31mAttributeError\u001b[0m                            Traceback (most recent call last)",
      "File \u001b[1;32m~\\AppData\\Local\\Programs\\Python\\Python310\\lib\\site-packages\\numpy\\core\\fromnumeric.py:2033\u001b[0m, in \u001b[0;36mshape\u001b[1;34m(a)\u001b[0m\n\u001b[0;32m   2032\u001b[0m \u001b[39mtry\u001b[39;00m:\n\u001b[1;32m-> 2033\u001b[0m     result \u001b[39m=\u001b[39m a\u001b[39m.\u001b[39;49mshape\n\u001b[0;32m   2034\u001b[0m \u001b[39mexcept\u001b[39;00m \u001b[39mAttributeError\u001b[39;00m:\n",
      "\u001b[1;31mAttributeError\u001b[0m: 'list' object has no attribute 'shape'",
      "\nDuring handling of the above exception, another exception occurred:\n",
      "\u001b[1;31mValueError\u001b[0m                                Traceback (most recent call last)",
      "\u001b[1;32mc:\\Users\\Mark\\Desktop\\MA1\\NE\\neuroevolution\\3.ipynb Cell 8\u001b[0m in \u001b[0;36m<cell line: 38>\u001b[1;34m()\u001b[0m\n\u001b[0;32m     <a href='vscode-notebook-cell:/c%3A/Users/Mark/Desktop/MA1/NE/neuroevolution/3.ipynb#X11sZmlsZQ%3D%3D?line=33'>34</a>\u001b[0m             \u001b[39mself\u001b[39m\u001b[39m.\u001b[39mforward(\u001b[39mself\u001b[39m\u001b[39m.\u001b[39mtraining_data[i])\n\u001b[0;32m     <a href='vscode-notebook-cell:/c%3A/Users/Mark/Desktop/MA1/NE/neuroevolution/3.ipynb#X11sZmlsZQ%3D%3D?line=36'>37</a>\u001b[0m test \u001b[39m=\u001b[39m NN(train,target,\u001b[39m1\u001b[39m)\n\u001b[1;32m---> <a href='vscode-notebook-cell:/c%3A/Users/Mark/Desktop/MA1/NE/neuroevolution/3.ipynb#X11sZmlsZQ%3D%3D?line=37'>38</a>\u001b[0m test\u001b[39m.\u001b[39;49mtraining()\n",
      "\u001b[1;32mc:\\Users\\Mark\\Desktop\\MA1\\NE\\neuroevolution\\3.ipynb Cell 8\u001b[0m in \u001b[0;36mNN.training\u001b[1;34m(self)\u001b[0m\n\u001b[0;32m     <a href='vscode-notebook-cell:/c%3A/Users/Mark/Desktop/MA1/NE/neuroevolution/3.ipynb#X11sZmlsZQ%3D%3D?line=31'>32</a>\u001b[0m \u001b[39mfor\u001b[39;00m i \u001b[39min\u001b[39;00m \u001b[39mrange\u001b[39m(\u001b[39mlen\u001b[39m(\u001b[39mself\u001b[39m\u001b[39m.\u001b[39mtraining_data)):\n\u001b[0;32m     <a href='vscode-notebook-cell:/c%3A/Users/Mark/Desktop/MA1/NE/neuroevolution/3.ipynb#X11sZmlsZQ%3D%3D?line=32'>33</a>\u001b[0m     \u001b[39mprint\u001b[39m(\u001b[39mself\u001b[39m\u001b[39m.\u001b[39mtraining_data[i])\n\u001b[1;32m---> <a href='vscode-notebook-cell:/c%3A/Users/Mark/Desktop/MA1/NE/neuroevolution/3.ipynb#X11sZmlsZQ%3D%3D?line=33'>34</a>\u001b[0m     \u001b[39mself\u001b[39;49m\u001b[39m.\u001b[39;49mforward(\u001b[39mself\u001b[39;49m\u001b[39m.\u001b[39;49mtraining_data[i])\n",
      "\u001b[1;32mc:\\Users\\Mark\\Desktop\\MA1\\NE\\neuroevolution\\3.ipynb Cell 8\u001b[0m in \u001b[0;36mNN.forward\u001b[1;34m(self, x)\u001b[0m\n\u001b[0;32m     <a href='vscode-notebook-cell:/c%3A/Users/Mark/Desktop/MA1/NE/neuroevolution/3.ipynb#X11sZmlsZQ%3D%3D?line=24'>25</a>\u001b[0m     \u001b[39mprint\u001b[39m(product) \u001b[39m# shape (1,4)\u001b[39;00m\n\u001b[0;32m     <a href='vscode-notebook-cell:/c%3A/Users/Mark/Desktop/MA1/NE/neuroevolution/3.ipynb#X11sZmlsZQ%3D%3D?line=25'>26</a>\u001b[0m     x \u001b[39m=\u001b[39m \u001b[39mself\u001b[39m\u001b[39m.\u001b[39mReLU(np\u001b[39m.\u001b[39marray(product))\n\u001b[1;32m---> <a href='vscode-notebook-cell:/c%3A/Users/Mark/Desktop/MA1/NE/neuroevolution/3.ipynb#X11sZmlsZQ%3D%3D?line=26'>27</a>\u001b[0m     \u001b[39mprint\u001b[39m(np\u001b[39m.\u001b[39;49mshape(\u001b[39mself\u001b[39;49m\u001b[39m.\u001b[39;49mweights)[\u001b[39m0\u001b[39m])\n\u001b[0;32m     <a href='vscode-notebook-cell:/c%3A/Users/Mark/Desktop/MA1/NE/neuroevolution/3.ipynb#X11sZmlsZQ%3D%3D?line=27'>28</a>\u001b[0m \u001b[39mreturn\u001b[39;00m \u001b[39mself\u001b[39m\u001b[39m.\u001b[39msigmoid(np\u001b[39m.\u001b[39mdot(\u001b[39mself\u001b[39m\u001b[39m.\u001b[39mweights[\u001b[39m1\u001b[39m],x))\n",
      "File \u001b[1;32m<__array_function__ internals>:200\u001b[0m, in \u001b[0;36mshape\u001b[1;34m(*args, **kwargs)\u001b[0m\n",
      "File \u001b[1;32m~\\AppData\\Local\\Programs\\Python\\Python310\\lib\\site-packages\\numpy\\core\\fromnumeric.py:2035\u001b[0m, in \u001b[0;36mshape\u001b[1;34m(a)\u001b[0m\n\u001b[0;32m   2033\u001b[0m     result \u001b[39m=\u001b[39m a\u001b[39m.\u001b[39mshape\n\u001b[0;32m   2034\u001b[0m \u001b[39mexcept\u001b[39;00m \u001b[39mAttributeError\u001b[39;00m:\n\u001b[1;32m-> 2035\u001b[0m     result \u001b[39m=\u001b[39m asarray(a)\u001b[39m.\u001b[39mshape\n\u001b[0;32m   2036\u001b[0m \u001b[39mreturn\u001b[39;00m result\n",
      "\u001b[1;31mValueError\u001b[0m: setting an array element with a sequence. The requested array has an inhomogeneous shape after 1 dimensions. The detected shape was (2,) + inhomogeneous part."
     ]
    }
   ],
   "source": [
    "class NN():\n",
    "\n",
    "    def __init__(self, training_data, target_data,hidden_layers):\n",
    "\n",
    "        self.training_data = training_data\n",
    "        self.target_data = target_data\n",
    "\n",
    "        self.weights = [np.random.uniform(size=(2,4))]\n",
    "        while(hidden_layers > 1):\n",
    "            self.weights.append(np.random.uniform(size=(4,16)))\n",
    "            hidden_layers -=1\n",
    "        self.weights.append(np.random.uniform(size=(4,1)))\n",
    "        print(self.weights)\n",
    "\n",
    "\n",
    "    def ReLU(self,x):\n",
    "        return x * (x > 0) \n",
    "    \n",
    "    def sigmoid(self, x):\n",
    "        return 1/(1+(np.math.e)**(-np.array(x)))\n",
    "    \n",
    "    def forward(self, x):\n",
    "        for i in range(len(self.weights)-1):\n",
    "            product = np.dot(x, self.weights[i])\n",
    "            print(product) # shape (1,4)\n",
    "            x = self.ReLU(np.array(product))\n",
    "        return self.sigmoid(np.dot(self.weights[1],x))\n",
    "\n",
    "    def training(self):\n",
    "\n",
    "        for i in range(len(self.training_data)):\n",
    "            print(self.training_data[i])\n",
    "            self.forward(self.training_data[i])\n",
    "        \n",
    "\n",
    "test = NN(train,target,1)\n",
    "test.training()"
   ]
  }
 ],
 "metadata": {
  "kernelspec": {
   "display_name": "Python 3",
   "language": "python",
   "name": "python3"
  },
  "language_info": {
   "codemirror_mode": {
    "name": "ipython",
    "version": 3
   },
   "file_extension": ".py",
   "mimetype": "text/x-python",
   "name": "python",
   "nbconvert_exporter": "python",
   "pygments_lexer": "ipython3",
   "version": "3.10.4"
  },
  "orig_nbformat": 4
 },
 "nbformat": 4,
 "nbformat_minor": 2
}
