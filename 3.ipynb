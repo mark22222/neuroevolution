{
 "cells": [
  {
   "attachments": {},
   "cell_type": "markdown",
   "metadata": {},
   "source": [
    "# Abgabe 3 Mark Nagengast Porro, Tim Schwabe"
   ]
  },
  {
   "cell_type": "code",
   "execution_count": 111,
   "metadata": {},
   "outputs": [],
   "source": [
    "import numpy as np"
   ]
  },
  {
   "attachments": {},
   "cell_type": "markdown",
   "metadata": {},
   "source": [
    "## Aufgabe 1"
   ]
  },
  {
   "cell_type": "code",
   "execution_count": 112,
   "metadata": {},
   "outputs": [],
   "source": [
    "data = dict()\n",
    "data.update([((0,0),0),((0,1),1),((1,0),1),((1,1),0)])"
   ]
  },
  {
   "cell_type": "code",
   "execution_count": 113,
   "metadata": {},
   "outputs": [],
   "source": [
    "def RELU(x):\n",
    "    return max(0,x)"
   ]
  },
  {
   "cell_type": "code",
   "execution_count": 114,
   "metadata": {},
   "outputs": [],
   "source": [
    "def sigmoid(x):\n",
    "    return 1/(1+(np.math.e)**(-x))"
   ]
  },
  {
   "cell_type": "code",
   "execution_count": 115,
   "metadata": {},
   "outputs": [
    {
     "name": "stdout",
     "output_type": "stream",
     "text": [
      "[[1 0]\n",
      " [0 0]\n",
      " [0 0]\n",
      " [1 1]\n",
      " [0 0]\n",
      " [0 1]\n",
      " [0 0]\n",
      " [0 0]\n",
      " [0 0]\n",
      " [1 1]]\n",
      "[1 0 0 0 0 1 0 0 0 0]\n"
     ]
    },
    {
     "name": "stderr",
     "output_type": "stream",
     "text": [
      "c:\\Users\\timds\\AppData\\Local\\Programs\\Python\\Python36\\lib\\site-packages\\ipykernel_launcher.py:6: VisibleDeprecationWarning: Creating an ndarray from ragged nested sequences (which is a list-or-tuple of lists-or-tuples-or ndarrays with different lengths or shapes) is deprecated. If you meant to do this, you must specify 'dtype=object' when creating the ndarray\n",
      "  \n"
     ]
    }
   ],
   "source": [
    "def createTrainingData(batch_size):\n",
    "\n",
    "    data = np.array([[[0,0],0],\n",
    "                     [[0,1],1],\n",
    "                     [[1,0],1],\n",
    "                     [[1,1],0]])\n",
    "\n",
    "    traing_data = []\n",
    "    target = []\n",
    "    while(batch_size > 0):\n",
    "        index = np.random.randint(4)\n",
    "        traing_data.append( data[index][0])\n",
    "        target.append(data[index][1])\n",
    "        batch_size -= 1\n",
    "    return np.array(traing_data), np.array(target)\n",
    "\n",
    "train, target = createTrainingData(10)\n",
    "print(train)\n",
    "print(target)"
   ]
  },
  {
   "attachments": {},
   "cell_type": "markdown",
   "metadata": {},
   "source": [
    "## Aufgabe 2"
   ]
  },
  {
   "cell_type": "code",
   "execution_count": 116,
   "metadata": {},
   "outputs": [
    {
     "name": "stdout",
     "output_type": "stream",
     "text": [
      "[matrix([[0.65967788, 0.48196294, 0.09416714, 0.54920499],\n",
      "        [0.21519469, 0.4540999 , 0.79808083, 0.46653905]]), matrix([[0.78927321],\n",
      "        [0.095511  ],\n",
      "        [0.13264234],\n",
      "        [0.1184199 ]])]\n"
     ]
    }
   ],
   "source": [
    "class NN():\n",
    "\n",
    "    def __init__(self, training_data, target_data,hidden_layers):\n",
    "\n",
    "        self.training_data = training_data\n",
    "        self.target_data = target_data\n",
    "\n",
    "        self.weights = [np.matrix(np.random.uniform(size=(2,4)))]\n",
    "        while(hidden_layers > 1):\n",
    "            self.weights.append(np.matrix(np.random.uniform(size=(4,16))))\n",
    "            hidden_layers -=1\n",
    "        self.weights.append(np.matrix(np.random.uniform(size=(4,1))))\n",
    "        print(self.weights)\n",
    "\n",
    "\n",
    "    def ReLU(x):\n",
    "        return max(0,x)\n",
    "    \n",
    "    def sigmoid(x):\n",
    "        return 1/(1+(np.math.e)**(-x))\n",
    "    \n",
    "    def forward():\n",
    "        return\n",
    "\n",
    "test = NN(train,target,1)"
   ]
  }
 ],
 "metadata": {
  "kernelspec": {
   "display_name": "Python 3",
   "language": "python",
   "name": "python3"
  },
  "language_info": {
   "codemirror_mode": {
    "name": "ipython",
    "version": 3
   },
   "file_extension": ".py",
   "mimetype": "text/x-python",
   "name": "python",
   "nbconvert_exporter": "python",
   "pygments_lexer": "ipython3",
   "version": "3.6.8"
  },
  "orig_nbformat": 4
 },
 "nbformat": 4,
 "nbformat_minor": 2
}
