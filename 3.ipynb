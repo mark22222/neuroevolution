{
 "cells": [
  {
   "attachments": {},
   "cell_type": "markdown",
   "metadata": {},
   "source": [
    "# Abgabe 3 Mark Nagengast Porro, Tim Schwabe"
   ]
  },
  {
   "cell_type": "code",
   "execution_count": 24,
   "metadata": {},
   "outputs": [],
   "source": [
    "import numpy as np"
   ]
  },
  {
   "attachments": {},
   "cell_type": "markdown",
   "metadata": {},
   "source": [
    "## Aufgabe 1"
   ]
  },
  {
   "cell_type": "code",
   "execution_count": 25,
   "metadata": {},
   "outputs": [],
   "source": [
    "def RELU(x):\n",
    "    return max(0,x)"
   ]
  },
  {
   "cell_type": "code",
   "execution_count": 26,
   "metadata": {},
   "outputs": [],
   "source": [
    "def sigmoid(x):\n",
    "    return 1/(1+(np.math.e)**(-x))"
   ]
  },
  {
   "cell_type": "code",
   "execution_count": 27,
   "metadata": {},
   "outputs": [],
   "source": [
    "def createTrainingData(batch_size):\n",
    "\n",
    "    data = np.array([[0,0],\n",
    "                     [0,1],\n",
    "                     [1,0],\n",
    "                     [1,1]])\n",
    "    truth = np.array([[0],[1],[1],[0]])\n",
    "    \n",
    "    training_data = []\n",
    "    target = []\n",
    "    while(batch_size > 0):\n",
    "        index = np.random.randint(4)\n",
    "        training_data.append(data[index])\n",
    "        target.append(truth[index])\n",
    "        batch_size -= 1\n",
    "    return np.array(training_data), np.array(target)\n",
    "\n",
    "train, target = createTrainingData(10)\n",
    "#print(train)\n",
    "#print(target)"
   ]
  },
  {
   "attachments": {},
   "cell_type": "markdown",
   "metadata": {},
   "source": [
    "## Aufgabe 2"
   ]
  },
  {
   "cell_type": "code",
   "execution_count": 57,
   "metadata": {},
   "outputs": [],
   "source": [
    "class NN():\n",
    "\n",
    "    def __init__(self, training_data, target_data,hidden_layers):\n",
    "\n",
    "        self.training_data = training_data\n",
    "        self.target_data = target_data\n",
    "\n",
    "        self.weights = [np.random.uniform(size=(2,4))]\n",
    "        while(hidden_layers > 1):\n",
    "            self.weights.append(np.random.uniform(size=(4,4)))\n",
    "            hidden_layers -=1\n",
    "        self.weights.append(np.random.uniform(size=(1,4)))\n",
    "        print(self.weights)\n",
    "\n",
    "\n",
    "    def ReLU(self,x):\n",
    "        return x * (x > 0) \n",
    "    \n",
    "    def sigmoid(self, x):\n",
    "        return 1/(1+(np.math.e)**(-np.array(x)))\n",
    "    \n",
    "    def forward(self, x):\n",
    "        for i in range(len(self.weights)-1):\n",
    "            product = np.dot(x, self.weights[i])\n",
    "            x = self.ReLU(np.array(product))\n",
    "        return self.sigmoid(np.dot(self.weights[-1], x))\n",
    "    \n",
    "    def execute(self,x):\n",
    "        return np.round(self.forward(x)[0])\n",
    "\n",
    "    def training(self):\n",
    "\n",
    "        for i in range(len(self.training_data)):\n",
    "            print(self.training_data[i])\n",
    "            print(self.forward(self.training_data[i]))\n",
    "        "
   ]
  },
  {
   "cell_type": "code",
   "execution_count": 58,
   "metadata": {},
   "outputs": [
    {
     "name": "stdout",
     "output_type": "stream",
     "text": [
      "[array([[0.1387762 , 0.4702463 , 0.13235123, 0.81664225],\n",
      "       [0.32150941, 0.60263201, 0.36966742, 0.13933313]]), array([[0.66117203, 0.14140535, 0.07667112, 0.3288914 ],\n",
      "       [0.01516861, 0.80969122, 0.67609459, 0.422725  ],\n",
      "       [0.68156576, 0.67079619, 0.13764437, 0.06916524],\n",
      "       [0.77952527, 0.17529651, 0.59602891, 0.88679663]]), array([[0.99565537, 0.10105116, 0.46204335, 0.42219197]])]\n"
     ]
    },
    {
     "data": {
      "text/plain": [
       "1.0"
      ]
     },
     "execution_count": 58,
     "metadata": {},
     "output_type": "execute_result"
    }
   ],
   "source": [
    "test = NN(train,target,2)\n",
    "test.execute([0,1])"
   ]
  }
 ],
 "metadata": {
  "kernelspec": {
   "display_name": "Python 3",
   "language": "python",
   "name": "python3"
  },
  "language_info": {
   "codemirror_mode": {
    "name": "ipython",
    "version": 3
   },
   "file_extension": ".py",
   "mimetype": "text/x-python",
   "name": "python",
   "nbconvert_exporter": "python",
   "pygments_lexer": "ipython3",
   "version": "3.6.8"
  },
  "orig_nbformat": 4
 },
 "nbformat": 4,
 "nbformat_minor": 2
}
